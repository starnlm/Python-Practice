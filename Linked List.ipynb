{
 "cells": [
  {
   "cell_type": "markdown",
   "metadata": {},
   "source": [
    "# Singly Linked List"
   ]
  },
  {
   "cell_type": "code",
   "execution_count": 182,
   "metadata": {},
   "outputs": [],
   "source": [
    "class Node:\n",
    "    \n",
    "    def __init__(self, value):\n",
    "        self.value = value\n",
    "        self.next = None\n",
    "\n",
    "\n",
    "class LinkedList:\n",
    "    \n",
    "    def __init__(self):\n",
    "        self.head = None\n",
    "        \n",
    "    def printList(self):\n",
    "        temp = self.head\n",
    "        while temp !=None:\n",
    "            print(temp.value)\n",
    "            temp = temp.next\n",
    "    \n",
    "    def insertEnd(self, value):\n",
    "        tail = Node(value)\n",
    "        temp = self.head\n",
    "        while temp.next !=None:\n",
    "            temp = temp.next\n",
    "        temp.next = tail\n",
    "    \n",
    "    def insertStart(self, value):\n",
    "        headN = Node(value)\n",
    "        headN.next = self.head\n",
    "        self.head = headN\n",
    "        \n",
    "    def insertPos(self, pos, value):\n",
    "        node = Node(value)\n",
    "        temp = self.head\n",
    "        pos-=1\n",
    "        while pos!=1:\n",
    "            temp = temp.next\n",
    "            pos-=1\n",
    "        p = temp.next\n",
    "        temp.next= node\n",
    "        node.next = p\n",
    "            \n",
    "    "
   ]
  },
  {
   "cell_type": "code",
   "execution_count": 149,
   "metadata": {},
   "outputs": [],
   "source": [
    "ll = LinkedList()"
   ]
  },
  {
   "cell_type": "code",
   "execution_count": 150,
   "metadata": {},
   "outputs": [],
   "source": [
    "ll.head = Node(1)\n",
    "second =  Node(2)\n",
    "third = Node(3)\n",
    "fourth = Node(4)\n",
    "fifth = Node(5)"
   ]
  },
  {
   "cell_type": "code",
   "execution_count": 151,
   "metadata": {},
   "outputs": [],
   "source": [
    "ll.head.next = second\n",
    "second.next = third\n",
    "third.next = fourth\n",
    "fourth.next = fifth\n",
    "fifth.next = None"
   ]
  },
  {
   "cell_type": "code",
   "execution_count": 157,
   "metadata": {},
   "outputs": [
    {
     "name": "stdout",
     "output_type": "stream",
     "text": [
      "0\n",
      "5\n",
      "1\n",
      "2\n",
      "3\n",
      "12\n",
      "4\n",
      "5\n",
      "6\n"
     ]
    }
   ],
   "source": [
    "ll.printList()"
   ]
  },
  {
   "cell_type": "code",
   "execution_count": 153,
   "metadata": {},
   "outputs": [],
   "source": [
    "ll.insertEnd(6)\n",
    "ll.insertStart(0)"
   ]
  },
  {
   "cell_type": "code",
   "execution_count": 156,
   "metadata": {},
   "outputs": [],
   "source": [
    "ll.insertPos(6,12)"
   ]
  },
  {
   "cell_type": "code",
   "execution_count": 159,
   "metadata": {},
   "outputs": [],
   "source": [
    "def nth_last_node(n, head):\n",
    "    end = head\n",
    "    val = head\n",
    "    count = 0\n",
    "    \n",
    "    while end.next!=None:\n",
    "        end = end.next\n",
    "        count+=1\n",
    "        \n",
    "        if count>=n:\n",
    "            val = val.next\n",
    "    \n",
    "    return val\n",
    "\n",
    "\n",
    "#1-->2-->3-->4-->5-->None"
   ]
  },
  {
   "cell_type": "code",
   "execution_count": 180,
   "metadata": {},
   "outputs": [],
   "source": [
    "target = nth_last_node(11,ll.head)"
   ]
  },
  {
   "cell_type": "code",
   "execution_count": 181,
   "metadata": {},
   "outputs": [
    {
     "data": {
      "text/plain": [
       "0"
      ]
     },
     "execution_count": 181,
     "metadata": {},
     "output_type": "execute_result"
    }
   ],
   "source": [
    "target.value"
   ]
  },
  {
   "cell_type": "code",
   "execution_count": 179,
   "metadata": {},
   "outputs": [
    {
     "name": "stdout",
     "output_type": "stream",
     "text": [
      "0\n",
      "5\n",
      "1\n",
      "2\n",
      "3\n",
      "12\n",
      "4\n",
      "5\n",
      "6\n"
     ]
    }
   ],
   "source": [
    "ll.printList()"
   ]
  },
  {
   "cell_type": "code",
   "execution_count": 186,
   "metadata": {},
   "outputs": [],
   "source": [
    "class Node:\n",
    "    \n",
    "    def __init__(self, val):\n",
    "        self.val = val\n",
    "        self.next = None"
   ]
  },
  {
   "cell_type": "code",
   "execution_count": 274,
   "metadata": {},
   "outputs": [],
   "source": [
    "l1 = Node(2)\n",
    "l11 = Node(3)\n",
    "l12 = Node(4)\n",
    "l1.next = l11\n",
    "l11.next = l12\n",
    "\n",
    "\n",
    "l2 = Node(1)\n",
    "l21 = Node(2)\n",
    "l22 = Node(4)\n",
    "l2.next = l21\n",
    "l21.next = l22"
   ]
  },
  {
   "cell_type": "code",
   "execution_count": 275,
   "metadata": {},
   "outputs": [],
   "source": [
    "head = l2\n",
    "while l1 is not None:\n",
    "    if l1.val>=l2.val:\n",
    "        temp1 = l1.next\n",
    "        temp2 = l2.next\n",
    "        l2.next = l1\n",
    "        l1.next = temp2\n",
    "        l1 = temp1\n",
    "        l2= temp2\n",
    "    else:\n",
    "        temp1 = l1.next\n",
    "        temp2 = l2.next\n",
    "        l1.next = l2\n",
    "        l2 = temp2\n",
    "        l1 = temp1\n",
    "\n"
   ]
  },
  {
   "cell_type": "code",
   "execution_count": 276,
   "metadata": {},
   "outputs": [
    {
     "data": {
      "text/plain": [
       "4"
      ]
     },
     "execution_count": 276,
     "metadata": {},
     "output_type": "execute_result"
    }
   ],
   "source": [
    "head.next.next.next.next.next.val"
   ]
  },
  {
   "cell_type": "markdown",
   "metadata": {},
   "source": [
    "# Doubly Linked List"
   ]
  },
  {
   "cell_type": "code",
   "execution_count": 14,
   "metadata": {},
   "outputs": [],
   "source": [
    "class DLinkedList(object):\n",
    "    \n",
    "    def __init__(self, value):\n",
    "        self.value = value\n",
    "        self.next = None\n",
    "        self.prev = None\n"
   ]
  },
  {
   "cell_type": "code",
   "execution_count": 15,
   "metadata": {},
   "outputs": [],
   "source": [
    "w = DLinkedList(0)\n",
    "x = DLinkedList(1)\n",
    "y = DLinkedList(2)\n",
    "z = DLinkedList(3)"
   ]
  },
  {
   "cell_type": "code",
   "execution_count": 16,
   "metadata": {},
   "outputs": [],
   "source": [
    "w.next = x\n",
    "x.next = y\n",
    "y.next = z\n",
    "x.prev = w\n",
    "y.prev = x\n",
    "z.prev = y"
   ]
  },
  {
   "cell_type": "code",
   "execution_count": 18,
   "metadata": {},
   "outputs": [
    {
     "data": {
      "text/plain": [
       "0"
      ]
     },
     "execution_count": 18,
     "metadata": {},
     "output_type": "execute_result"
    }
   ],
   "source": [
    "w.value"
   ]
  },
  {
   "cell_type": "code",
   "execution_count": 26,
   "metadata": {},
   "outputs": [
    {
     "ename": "AttributeError",
     "evalue": "'NoneType' object has no attribute 'value'",
     "output_type": "error",
     "traceback": [
      "\u001b[1;31m---------------------------------------------------------------------------\u001b[0m",
      "\u001b[1;31mAttributeError\u001b[0m                            Traceback (most recent call last)",
      "\u001b[1;32m<ipython-input-26-5b2c812ce90b>\u001b[0m in \u001b[0;36m<module>\u001b[1;34m()\u001b[0m\n\u001b[1;32m----> 1\u001b[1;33m \u001b[0mw\u001b[0m\u001b[1;33m.\u001b[0m\u001b[0mprev\u001b[0m\u001b[1;33m.\u001b[0m\u001b[0mvalue\u001b[0m\u001b[1;33m\u001b[0m\u001b[0m\n\u001b[0m",
      "\u001b[1;31mAttributeError\u001b[0m: 'NoneType' object has no attribute 'value'"
     ]
    }
   ],
   "source": [
    "w.prev.value"
   ]
  },
  {
   "cell_type": "code",
   "execution_count": 133,
   "metadata": {},
   "outputs": [],
   "source": [
    "def removenode1(head, loop_node):\n",
    "    \n",
    "    ptr1 = head\n",
    "    while(1):\n",
    "        ptr2 = loop_node\n",
    "        while ptr2.nextnode != loop_node and ptr2.nextnode != ptr1:\n",
    "            ptr2 = ptr2.nextnode\n",
    "        \n",
    "        if ptr2.nextnode == ptr1:\n",
    "            break\n",
    "        ptr1 = ptr1.nextnode\n",
    "        \n",
    "    ptr2.nextnode = None\n",
    "        "
   ]
  },
  {
   "cell_type": "code",
   "execution_count": 172,
   "metadata": {},
   "outputs": [],
   "source": [
    "def removenode2(head, loop_node):\n",
    "    k=1\n",
    "    ptr1 = loop_node\n",
    "    while ptr1.nextnode != loop_node:\n",
    "        k+=1\n",
    "    \n",
    "    ptr1 = head\n",
    "    ptr2 = head\n",
    "    \n",
    "    for _ in range(k):\n",
    "        ptr2 = ptr2.nextnode\n",
    "    \n",
    "    while ptr1 != ptr2:\n",
    "        ptr1 = ptr1.nextnode\n",
    "        ptr2 = ptr2.nextnode\n",
    "    \n",
    "    ptr1.nextnode = None\n",
    "        "
   ]
  },
  {
   "cell_type": "code",
   "execution_count": 65,
   "metadata": {},
   "outputs": [],
   "source": [
    "def checkcycle(node):\n",
    "    marker1 = node\n",
    "    marker2 = node\n",
    "    while marker2 != None and marker2.next != None:\n",
    "        marker1 = marker1.next\n",
    "        marker2 = marker2.next.next\n",
    "        \n",
    "        if marker2 == marker1:\n",
    "            marker1 = node\n",
    "            \n",
    "            if marker2 == node:\n",
    "                while node!=marker2.next:\n",
    "                    marker2 = marker2.next\n",
    "                \n",
    "            else:\n",
    "                while marker1.next != marker2.next:\n",
    "                    marker1 = marker1.next\n",
    "                    marker2 = marker2.next\n",
    "            marker2.next = None\n",
    "            return True\n",
    "        \n",
    "        \n",
    "    return False"
   ]
  },
  {
   "cell_type": "code",
   "execution_count": 68,
   "metadata": {},
   "outputs": [
    {
     "data": {
      "text/plain": [
       "True"
      ]
     },
     "execution_count": 68,
     "metadata": {},
     "output_type": "execute_result"
    }
   ],
   "source": [
    "checkcycle(ll.head)"
   ]
  },
  {
   "cell_type": "code",
   "execution_count": 69,
   "metadata": {
    "scrolled": true
   },
   "outputs": [
    {
     "name": "stdout",
     "output_type": "stream",
     "text": [
      "1\n",
      "2\n",
      "3\n",
      "4\n",
      "5\n"
     ]
    }
   ],
   "source": [
    "ll.printList()"
   ]
  },
  {
   "cell_type": "markdown",
   "metadata": {},
   "source": [
    "# List Reversal"
   ]
  },
  {
   "cell_type": "code",
   "execution_count": 85,
   "metadata": {},
   "outputs": [],
   "source": [
    "def reverseList(node):\n",
    "    \n",
    "    a = node.next\n",
    "    p = node\n",
    "    while a:\n",
    "        x = a\n",
    "        a = a.next\n",
    "        x.next = p\n",
    "        p = x\n",
    "    node.next = None\n",
    "    node = x\n",
    "    return node"
   ]
  },
  {
   "cell_type": "code",
   "execution_count": 86,
   "metadata": {},
   "outputs": [
    {
     "name": "stdout",
     "output_type": "stream",
     "text": [
      "5\n"
     ]
    }
   ],
   "source": [
    "ll.head = reverseList(ll.head)\n",
    "print(ll.head.value)"
   ]
  },
  {
   "cell_type": "code",
   "execution_count": 87,
   "metadata": {},
   "outputs": [
    {
     "name": "stdout",
     "output_type": "stream",
     "text": [
      "5\n",
      "4\n",
      "3\n",
      "2\n",
      "1\n"
     ]
    }
   ],
   "source": [
    "ll.printList()"
   ]
  },
  {
   "cell_type": "code",
   "execution_count": 1,
   "metadata": {},
   "outputs": [],
   "source": [
    "class ListNode:\n",
    "     def __init__(self, val=0, next=None):\n",
    "        self.val = val\n",
    "        self.next = next"
   ]
  },
  {
   "cell_type": "code",
   "execution_count": 17,
   "metadata": {},
   "outputs": [],
   "source": [
    "head = ListNode(1)\n",
    "a = ListNode(2)\n",
    "b = ListNode(3)\n",
    "c = ListNode(4)\n",
    "d = ListNode(5)\n",
    "head.next = a\n",
    "a.next =  None\n",
    "b.next = c\n",
    "c.next = d\n",
    "n = 2"
   ]
  },
  {
   "cell_type": "code",
   "execution_count": 18,
   "metadata": {},
   "outputs": [
    {
     "name": "stdout",
     "output_type": "stream",
     "text": [
      "1\n"
     ]
    }
   ],
   "source": [
    "res = l1 = l2 = head\n",
    "while l1.next:\n",
    "    l1 = l1.next\n",
    "    if n==0:\n",
    "        l2 = l2.next\n",
    "\n",
    "    else: n-=1\n",
    "l2.next = l1\n",
    "print(res.val)"
   ]
  },
  {
   "cell_type": "code",
   "execution_count": 19,
   "metadata": {},
   "outputs": [
    {
     "data": {
      "text/plain": [
       "2"
      ]
     },
     "execution_count": 19,
     "metadata": {},
     "output_type": "execute_result"
    }
   ],
   "source": [
    "res.next.val"
   ]
  },
  {
   "cell_type": "code",
   "execution_count": null,
   "metadata": {},
   "outputs": [],
   "source": []
  }
 ],
 "metadata": {
  "kernelspec": {
   "display_name": "Python 3",
   "language": "python",
   "name": "python3"
  },
  "language_info": {
   "codemirror_mode": {
    "name": "ipython",
    "version": 3
   },
   "file_extension": ".py",
   "mimetype": "text/x-python",
   "name": "python",
   "nbconvert_exporter": "python",
   "pygments_lexer": "ipython3",
   "version": "3.6.5"
  }
 },
 "nbformat": 4,
 "nbformat_minor": 2
}
