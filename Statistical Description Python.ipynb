{
 "cells": [
  {
   "cell_type": "code",
   "execution_count": 2,
   "metadata": {},
   "outputs": [],
   "source": [
    "import numpy as np\n",
    "import pandas as pd"
   ]
  },
  {
   "cell_type": "code",
   "execution_count": 182,
   "metadata": {},
   "outputs": [],
   "source": [
    "import matplotlib.pyplot as plt\n",
    "import seaborn as sns\n",
    "import random"
   ]
  },
  {
   "cell_type": "markdown",
   "metadata": {},
   "source": [
    "# Calculating Probabilities and Plotting Distributions"
   ]
  },
  {
   "cell_type": "markdown",
   "metadata": {},
   "source": [
    "## Permutation and combination"
   ]
  },
  {
   "cell_type": "code",
   "execution_count": 41,
   "metadata": {},
   "outputs": [],
   "source": [
    "# import for permutation and combination\n",
    "from itertools import permutations, combinations, combinations_with_replacement \n",
    "from scipy.special import comb, perm"
   ]
  },
  {
   "cell_type": "code",
   "execution_count": 46,
   "metadata": {},
   "outputs": [
    {
     "data": {
      "text/plain": [
       "(45.0, 6.0)"
      ]
     },
     "execution_count": 46,
     "metadata": {},
     "output_type": "execute_result"
    }
   ],
   "source": [
    "comb(len('javapoint'),2, repetition = True), perm(3,3)"
   ]
  },
  {
   "cell_type": "code",
   "execution_count": 23,
   "metadata": {},
   "outputs": [
    {
     "name": "stdout",
     "output_type": "stream",
     "text": [
      "(1, 2, 3)\n",
      "(1, 3, 2)\n",
      "(2, 1, 3)\n",
      "(2, 3, 1)\n",
      "(3, 1, 2)\n",
      "(3, 2, 1)\n"
     ]
    }
   ],
   "source": [
    "seq = permutations([1, 2, 3])\n",
    "for i in seq:\n",
    "    print(i)"
   ]
  },
  {
   "cell_type": "code",
   "execution_count": 25,
   "metadata": {},
   "outputs": [
    {
     "name": "stdout",
     "output_type": "stream",
     "text": [
      "('A', 'B')\n",
      "('B', 'A')\n"
     ]
    }
   ],
   "source": [
    "seq = permutations(['A', 'B'])\n",
    "for i in seq:\n",
    "    print(i)"
   ]
  },
  {
   "cell_type": "code",
   "execution_count": 33,
   "metadata": {},
   "outputs": [
    {
     "name": "stdout",
     "output_type": "stream",
     "text": [
      "('A', 'B', 'C')\n",
      "('A', 'C', 'B')\n",
      "('B', 'A', 'C')\n",
      "('B', 'C', 'A')\n",
      "('C', 'A', 'B')\n",
      "('C', 'B', 'A')\n"
     ]
    }
   ],
   "source": [
    "seq = permutations(\"ABC\", 3)\n",
    "for p in list(seq):  \n",
    "    print(p)"
   ]
  },
  {
   "cell_type": "code",
   "execution_count": 39,
   "metadata": {},
   "outputs": [
    {
     "name": "stdout",
     "output_type": "stream",
     "text": [
      "('A', 'B')\n",
      "('A', 'C')\n",
      "('B', 'C')\n"
     ]
    }
   ],
   "source": [
    "com = combinations(\"ABC\", 2)\n",
    "for c in com:\n",
    "    print(c)"
   ]
  },
  {
   "cell_type": "code",
   "execution_count": 47,
   "metadata": {},
   "outputs": [
    {
     "name": "stdout",
     "output_type": "stream",
     "text": [
      "('A', 'A')\n",
      "('A', 'B')\n",
      "('A', 'C')\n",
      "('B', 'B')\n",
      "('B', 'C')\n",
      "('C', 'C')\n",
      "6\n"
     ]
    }
   ],
   "source": [
    "com = combinations_with_replacement('ABC', 2)  \n",
    "i=0\n",
    "for c in com:\n",
    "    i+=1\n",
    "    print(c)\n",
    "print(i)"
   ]
  },
  {
   "cell_type": "markdown",
   "metadata": {},
   "source": [
    "## Hypergeometric Distribution"
   ]
  },
  {
   "cell_type": "markdown",
   "metadata": {},
   "source": [
    "Selecting n objects at random without replacement from a set composed of two types of objects"
   ]
  },
  {
   "cell_type": "markdown",
   "metadata": {},
   "source": [
    "<strong>Ques.</strong> Suppose that 10000 lines of code have 30 lines which could beimproved (for example by clarification of purpose, simplification ordocumentation). If a random sample of 10 lines of code is taken,what is the chance that:(a) 1 or(b) 0lines of the code sampled could be improved?"
   ]
  },
  {
   "cell_type": "code",
   "execution_count": 48,
   "metadata": {},
   "outputs": [],
   "source": [
    "from scipy.stats import hypergeom"
   ]
  },
  {
   "cell_type": "code",
   "execution_count": 141,
   "metadata": {},
   "outputs": [
    {
     "data": {
      "text/plain": [
       "(0.9703886288726258, 0.02922563885658677)"
      ]
     },
     "execution_count": 141,
     "metadata": {},
     "output_type": "execute_result"
    }
   ],
   "source": [
    "[M, n, N] = [10000, 30, 10]\n",
    "rv1 = hypergeom(M, n, N)\n",
    "rv2 = hypergeom(100, n, N)\n",
    "rv3 = hypergeom(50, n, N)\n",
    "# The probability of 0 lines, # The probability of 1 lines\n",
    "rv1.pmf(0), rv1.pmf(1)"
   ]
  },
  {
   "cell_type": "code",
   "execution_count": 142,
   "metadata": {},
   "outputs": [
    {
     "data": {
      "text/plain": [
       "0.9996142677292126"
      ]
     },
     "execution_count": 142,
     "metadata": {},
     "output_type": "execute_result"
    }
   ],
   "source": [
    "# The probability of at most 1 lines\n",
    "hypergeom.cdf(1, M, n, N)"
   ]
  },
  {
   "cell_type": "code",
   "execution_count": 143,
   "metadata": {},
   "outputs": [
    {
     "name": "stdout",
     "output_type": "stream",
     "text": [
      "[4 6 6 5 4 2 4 4 3 5]\n",
      "[1 2 3 6 4 4 2 4 4 5]\n"
     ]
    }
   ],
   "source": [
    "# Random Number generation\n",
    "\n",
    "print(hypergeom.rvs(20, 7, 12, size=10))\n",
    "print(np.random.hypergeometric(7, 13, 12, 10))"
   ]
  },
  {
   "cell_type": "code",
   "execution_count": 145,
   "metadata": {
    "scrolled": true
   },
   "outputs": [
    {
     "data": {
      "text/plain": [
       "[<matplotlib.lines.Line2D at 0x22fbbb9f208>]"
      ]
     },
     "execution_count": 145,
     "metadata": {},
     "output_type": "execute_result"
    },
    {
     "data": {
      "image/png": "[encoded data removed]",
      "text/plain": [
       "<Figure size 432x288 with 1 Axes>"
      ]
     },
     "metadata": {
      "needs_background": "light"
     },
     "output_type": "display_data"
    }
   ],
   "source": [
    "x = np.arange(11)\n",
    "plt.plot(x, rv1.pmf(x), marker='o', linestyle='dashed', \n",
    "         linewidth=2, markersize=5)\n",
    "plt.plot(x, rv2.pmf(x), color = 'green', marker='o', linestyle='dashed', \n",
    "         linewidth=2, markersize=5)\n",
    "plt.plot(x, rv3.pmf(x), color = 'red', marker='^', linestyle='dashed', \n",
    "         linewidth=2, markersize=5)"
   ]
  },
  {
   "cell_type": "markdown",
   "metadata": {},
   "source": [
    "## Binomial Distribution"
   ]
  },
  {
   "cell_type": "markdown",
   "metadata": {},
   "source": [
    "Number of successes in a sequence of n Bernoulli trials, p = P (success)"
   ]
  },
  {
   "cell_type": "code",
   "execution_count": 149,
   "metadata": {},
   "outputs": [],
   "source": [
    "from scipy.stats import binom"
   ]
  },
  {
   "cell_type": "code",
   "execution_count": 154,
   "metadata": {},
   "outputs": [],
   "source": [
    "y1 = binom(40, 0.1)\n",
    "y2 = binom(40, 0.5)\n",
    "y3 = binom(40, 0.7)\n",
    "y4 = binom(40, 0.9)"
   ]
  },
  {
   "cell_type": "code",
   "execution_count": 155,
   "metadata": {},
   "outputs": [],
   "source": [
    "x = np.arange(41)"
   ]
  },
  {
   "cell_type": "code",
   "execution_count": 166,
   "metadata": {},
   "outputs": [
    {
     "data": {
      "text/plain": [
       "<matplotlib.legend.Legend at 0x22fbbff9f28>"
      ]
     },
     "execution_count": 166,
     "metadata": {},
     "output_type": "execute_result"
    },
    {
     "data": {
      "image/png": "[encoded data removed]",
      "text/plain": [
       "<Figure size 432x288 with 1 Axes>"
      ]
     },
     "metadata": {
      "needs_background": "light"
     },
     "output_type": "display_data"
    }
   ],
   "source": [
    "plt.plot(x, y1.pmf(x), '--b')\n",
    "plt.plot(x, y2.pmf(x), '^g')\n",
    "plt.plot(x, y3.pmf(x), 'oy')\n",
    "plt.plot(x, y4.pmf(x), 'sr', markersize=5, linestyle = 'dashed')\n",
    "plt.ylabel('pmf')\n",
    "plt.xlabel('x')\n",
    "plt.title('Binomial Probabilities')\n",
    "plt.legend( ['first', 'second', 'third', 'fourth'])"
   ]
  },
  {
   "cell_type": "code",
   "execution_count": 168,
   "metadata": {},
   "outputs": [
    {
     "data": {
      "text/plain": [
       "0.0008771929824561416"
      ]
     },
     "execution_count": 168,
     "metadata": {},
     "output_type": "execute_result"
    }
   ],
   "source": [
    "hypergeom(20, 3, 3).pmf(3)"
   ]
  },
  {
   "cell_type": "code",
   "execution_count": 173,
   "metadata": {},
   "outputs": [],
   "source": [
    "#n is the number of trials\n",
    "#p is the probability of success in each trial\n",
    "#m3 is skewness (1st column)\n",
    "#m4 is kurtosis (2nd column)\n",
    "\n",
    "def m34binomial(n, p):\n",
    "    q = 1-p\n",
    "    den = n*q*p\n",
    "    m3 = (q-p)/np.sqrt(den)\n",
    "    m4 = 3 + (1-6*p*q)/den\n",
    "    return (m3, m4)\n",
    "\n",
    "def m34negbinomial(r, p):\n",
    "    q = 1-p\n",
    "    qr = q*r\n",
    "    m3 = (1+q)/np.sqrt(qr)\n",
    "    m4 = 3 + 6/r + p**2/qr\n",
    "    return (m3, m4)"
   ]
  },
  {
   "cell_type": "code",
   "execution_count": 172,
   "metadata": {},
   "outputs": [
    {
     "data": {
      "text/plain": [
       "(0.02666666666666667, 3.000511111111111)"
      ]
     },
     "execution_count": 172,
     "metadata": {},
     "output_type": "execute_result"
    }
   ],
   "source": [
    "m34binomial(10000,0.1), "
   ]
  },
  {
   "cell_type": "code",
   "execution_count": 181,
   "metadata": {},
   "outputs": [
    {
     "data": {
      "text/plain": [
       "(array([0.28323528, 0.44783429, 0.31666667, 0.36565517]),\n",
       " array([3.12022222, 3.30055556, 3.15027778, 3.20037037]))"
      ]
     },
     "execution_count": 181,
     "metadata": {},
     "output_type": "execute_result"
    }
   ],
   "source": [
    "m34negbinomial(np.array([50, 20, 40, 30]), p = 0.1)"
   ]
  },
  {
   "cell_type": "code",
   "execution_count": 249,
   "metadata": {},
   "outputs": [],
   "source": [
    "random.seed(2)"
   ]
  },
  {
   "cell_type": "code",
   "execution_count": 259,
   "metadata": {},
   "outputs": [
    {
     "data": {
      "text/plain": [
       "3.141504"
      ]
     },
     "execution_count": 259,
     "metadata": {},
     "output_type": "execute_result"
    }
   ],
   "source": [
    "n = 10**6\n",
    "x = np.random.uniform(0, 1, n)\n",
    "y = np.random.uniform(0, 1, n)\n",
    "W = np.sum(x**2 + y**2 <1)\n",
    "est = W/250000\n",
    "est"
   ]
  },
  {
   "cell_type": "code",
   "execution_count": 267,
   "metadata": {},
   "outputs": [
    {
     "name": "stdout",
     "output_type": "stream",
     "text": [
      "Approximation error is: 8.865358979326388e-05\n"
     ]
    }
   ],
   "source": [
    "error = abs(est - np.pi)\n",
    "print(f\"Approximation error is: {error}\")"
   ]
  },
  {
   "cell_type": "code",
   "execution_count": 283,
   "metadata": {},
   "outputs": [],
   "source": [
    "def rW(size, n = 10**6):\n",
    "    W = np.zeros((1, size))\n",
    "    for i in range(size):\n",
    "        x = np.random.uniform(0, 1, n)\n",
    "        y = np.random.uniform(0, 1, n)\n",
    "        W[0][i]= np.sum(x**2 + y**2 <1)\n",
    "    return W"
   ]
  },
  {
   "cell_type": "code",
   "execution_count": 284,
   "metadata": {},
   "outputs": [],
   "source": [
    "W = rW(50)"
   ]
  },
  {
   "cell_type": "code",
   "execution_count": 285,
   "metadata": {},
   "outputs": [
    {
     "name": "stdout",
     "output_type": "stream",
     "text": [
      "Refined approximation error is: 7.729358979302603e-05\n"
     ]
    },
    {
     "data": {
      "text/plain": [
       "3.14151536"
      ]
     },
     "execution_count": 285,
     "metadata": {},
     "output_type": "execute_result"
    }
   ],
   "source": [
    "est = np.mean(W)/250000\n",
    "error = abs(est - np.pi)\n",
    "print(f\"Refined approximation error is: {error}\")\n",
    "est"
   ]
  },
  {
   "cell_type": "code",
   "execution_count": 278,
   "metadata": {},
   "outputs": [
    {
     "data": {
      "text/plain": [
       "0.0"
      ]
     },
     "execution_count": 278,
     "metadata": {},
     "output_type": "execute_result"
    }
   ],
   "source": [
    "w[0][1]"
   ]
  },
  {
   "cell_type": "code",
   "execution_count": null,
   "metadata": {},
   "outputs": [],
   "source": []
  }
 ],
 "metadata": {
  "kernelspec": {
   "display_name": "Python 3",
   "language": "python",
   "name": "python3"
  },
  "language_info": {
   "codemirror_mode": {
    "name": "ipython",
    "version": 3
   },
   "file_extension": ".py",
   "mimetype": "text/x-python",
   "name": "python",
   "nbconvert_exporter": "python",
   "pygments_lexer": "ipython3",
   "version": "3.6.9"
  }
 },
 "nbformat": 4,
 "nbformat_minor": 2
}
