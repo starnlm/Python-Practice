{
 "cells": [
  {
   "cell_type": "code",
   "execution_count": 1,
   "metadata": {
    "ExecuteTime": {
     "end_time": "2021-07-18T06:41:06.045690Z",
     "start_time": "2021-07-18T06:41:05.126446Z"
    }
   },
   "outputs": [],
   "source": [
    "import numpy as np\n",
    "import pandas as pd"
   ]
  },
  {
   "cell_type": "code",
   "execution_count": 2,
   "metadata": {
    "ExecuteTime": {
     "end_time": "2021-07-18T06:41:22.969594Z",
     "start_time": "2021-07-18T06:41:06.686607Z"
    }
   },
   "outputs": [],
   "source": [
    "import seaborn as sns\n",
    "import matplotlib.pyplot as plt"
   ]
  },
  {
   "cell_type": "code",
   "execution_count": 3,
   "metadata": {
    "ExecuteTime": {
     "end_time": "2021-07-18T06:41:22.978578Z",
     "start_time": "2021-07-18T06:41:22.972578Z"
    }
   },
   "outputs": [],
   "source": [
    "import scipy.stats as stats"
   ]
  },
  {
   "cell_type": "code",
   "execution_count": 7,
   "metadata": {},
   "outputs": [
    {
     "data": {
      "text/plain": [
       "1"
      ]
     },
     "execution_count": 7,
     "metadata": {},
     "output_type": "execute_result"
    }
   ],
   "source": [
    "np.random.binomial(1, 0.5)"
   ]
  },
  {
   "cell_type": "code",
   "execution_count": 33,
   "metadata": {},
   "outputs": [
    {
     "data": {
      "text/plain": [
       "531"
      ]
     },
     "execution_count": 33,
     "metadata": {},
     "output_type": "execute_result"
    }
   ],
   "source": [
    "np.random.binomial(1000, 0.5)"
   ]
  },
  {
   "cell_type": "code",
   "execution_count": 48,
   "metadata": {},
   "outputs": [
    {
     "data": {
      "text/plain": [
       "0.0218"
      ]
     },
     "execution_count": 48,
     "metadata": {},
     "output_type": "execute_result"
    }
   ],
   "source": [
    "n = np.random.binomial(20, .5, 10000)\n",
    "(n>=15).mean()"
   ]
  },
  {
   "cell_type": "code",
   "execution_count": 120,
   "metadata": {},
   "outputs": [
    {
     "data": {
      "text/plain": [
       "1.6659"
      ]
     },
     "execution_count": 120,
     "metadata": {},
     "output_type": "execute_result"
    }
   ],
   "source": [
    "np.random.binomial(10, 1/6, 10000).mean()"
   ]
  },
  {
   "cell_type": "code",
   "execution_count": 121,
   "metadata": {},
   "outputs": [
    {
     "data": {
      "text/plain": [
       "1.6666666666666667"
      ]
     },
     "execution_count": 121,
     "metadata": {},
     "output_type": "execute_result"
    }
   ],
   "source": [
    "10/6"
   ]
  },
  {
   "cell_type": "code",
   "execution_count": 133,
   "metadata": {},
   "outputs": [],
   "source": [
    "x = np.random.normal(5, 2, size = 10000)"
   ]
  },
  {
   "cell_type": "code",
   "execution_count": 140,
   "metadata": {},
   "outputs": [
    {
     "data": {
      "text/plain": [
       "<matplotlib.axes._subplots.AxesSubplot at 0x21fa1c567b8>"
      ]
     },
     "execution_count": 140,
     "metadata": {},
     "output_type": "execute_result"
    },
    {
     "data": {
      "image/png": "[encoded data removed]",
      "text/plain": [
       "<Figure size 432x288 with 1 Axes>"
      ]
     },
     "metadata": {
      "needs_background": "light"
     },
     "output_type": "display_data"
    }
   ],
   "source": [
    "sns.distplot(x, kde = True, fill = True)"
   ]
  },
  {
   "cell_type": "code",
   "execution_count": 137,
   "metadata": {},
   "outputs": [
    {
     "data": {
      "text/plain": [
       "0.0313288290263335"
      ]
     },
     "execution_count": 137,
     "metadata": {},
     "output_type": "execute_result"
    }
   ],
   "source": [
    "stats.skew(x)"
   ]
  },
  {
   "cell_type": "markdown",
   "metadata": {},
   "source": [
    "## Maximum Likelihood Estimation"
   ]
  },
  {
   "cell_type": "code",
   "execution_count": 4,
   "metadata": {
    "ExecuteTime": {
     "end_time": "2021-07-18T06:41:55.815667Z",
     "start_time": "2021-07-18T06:41:39.733570Z"
    }
   },
   "outputs": [],
   "source": [
    "import numpy as np\n",
    "import pandas as pd\n",
    "from matplotlib import pyplot as plt\n",
    "import seaborn as sns\n",
    "import statsmodels.api as sm\n",
    "from scipy import stats\n",
    "from scipy.optimize import minimize "
   ]
  },
  {
   "cell_type": "code",
   "execution_count": 5,
   "metadata": {
    "ExecuteTime": {
     "end_time": "2021-07-16T11:58:44.618558Z",
     "start_time": "2021-07-16T11:58:44.184543Z"
    }
   },
   "outputs": [
    {
     "data": {
      "text/html": [
       "<div>\n",
       "<style scoped>\n",
       "    .dataframe tbody tr th:only-of-type {\n",
       "        vertical-align: middle;\n",
       "    }\n",
       "\n",
       "    .dataframe tbody tr th {\n",
       "        vertical-align: top;\n",
       "    }\n",
       "\n",
       "    .dataframe thead th {\n",
       "        text-align: right;\n",
       "    }\n",
       "</style>\n",
       "<table border=\"1\" class=\"dataframe\">\n",
       "  <thead>\n",
       "    <tr style=\"text-align: right;\">\n",
       "      <th></th>\n",
       "      <th>x</th>\n",
       "      <th>y</th>\n",
       "    </tr>\n",
       "  </thead>\n",
       "  <tbody>\n",
       "    <tr>\n",
       "      <th>0</th>\n",
       "      <td>-10.000000</td>\n",
       "      <td>-16.682258</td>\n",
       "    </tr>\n",
       "    <tr>\n",
       "      <th>1</th>\n",
       "      <td>-9.595960</td>\n",
       "      <td>-19.150412</td>\n",
       "    </tr>\n",
       "    <tr>\n",
       "      <th>2</th>\n",
       "      <td>-9.191919</td>\n",
       "      <td>-21.490804</td>\n",
       "    </tr>\n",
       "    <tr>\n",
       "      <th>3</th>\n",
       "      <td>-8.787879</td>\n",
       "      <td>-15.230049</td>\n",
       "    </tr>\n",
       "    <tr>\n",
       "      <th>4</th>\n",
       "      <td>-8.383838</td>\n",
       "      <td>-15.370746</td>\n",
       "    </tr>\n",
       "  </tbody>\n",
       "</table>\n",
       "</div>"
      ],
      "text/plain": [
       "           x          y\n",
       "0 -10.000000 -16.682258\n",
       "1  -9.595960 -19.150412\n",
       "2  -9.191919 -21.490804\n",
       "3  -8.787879 -15.230049\n",
       "4  -8.383838 -15.370746"
      ]
     },
     "execution_count": 5,
     "metadata": {},
     "output_type": "execute_result"
    }
   ],
   "source": [
    "# generate an independent variable \n",
    "x = np.linspace(-10, 30, 100)\n",
    "# generate a normally distributed residual\n",
    "e = np.random.normal(10, 5, 100)\n",
    "# generate ground truth\n",
    "y = 10 + 4*x + e\n",
    "df = pd.DataFrame({'x':x, 'y':y})\n",
    "df.head()"
   ]
  },
  {
   "cell_type": "code",
   "execution_count": 6,
   "metadata": {
    "ExecuteTime": {
     "end_time": "2021-07-16T11:58:47.081401Z",
     "start_time": "2021-07-16T11:58:44.635880Z"
    }
   },
   "outputs": [
    {
     "data": {
      "image/png": "[encoded data removed]",
      "text/plain": [
       "<Figure size 432x288 with 1 Axes>"
      ]
     },
     "metadata": {
      "needs_background": "light"
     },
     "output_type": "display_data"
    }
   ],
   "source": [
    "sns.regplot(x='x', y='y', data = df)\n",
    "plt.show() "
   ]
  },
  {
   "cell_type": "code",
   "execution_count": 12,
   "metadata": {
    "ExecuteTime": {
     "end_time": "2021-07-16T12:31:44.199072Z",
     "start_time": "2021-07-16T12:31:44.178082Z"
    }
   },
   "outputs": [
    {
     "data": {
      "text/plain": [
       "const    19.982938\n",
       "x         3.996995\n",
       "dtype: float64"
      ]
     },
     "execution_count": 12,
     "metadata": {},
     "output_type": "execute_result"
    }
   ],
   "source": [
    "features = sm.add_constant(df.x)\n",
    "model = sm.OLS(y, features).fit()\n",
    "# model.summary()\n",
    "# model.tvalues\n",
    "model.params"
   ]
  },
  {
   "cell_type": "code",
   "execution_count": 8,
   "metadata": {
    "ExecuteTime": {
     "end_time": "2021-07-16T11:58:47.440444Z",
     "start_time": "2021-07-16T11:58:47.420410Z"
    }
   },
   "outputs": [
    {
     "data": {
      "text/plain": [
       "4.780225277054529"
      ]
     },
     "execution_count": 8,
     "metadata": {},
     "output_type": "execute_result"
    }
   ],
   "source": [
    "# residual = y_true - y_pred \n",
    "\n",
    "res = model.resid\n",
    "standard_dev = np.std(res, ddof = 0)\n",
    "standard_dev"
   ]
  },
  {
   "cell_type": "code",
   "execution_count": 9,
   "metadata": {
    "ExecuteTime": {
     "end_time": "2021-07-16T11:58:47.591454Z",
     "start_time": "2021-07-16T11:58:47.447846Z"
    }
   },
   "outputs": [],
   "source": [
    "# MLE function\n",
    "def MLE_Norm(param):\n",
    "    const, beta, std_dev = param\n",
    "    # predict the output\n",
    "    pred = const + beta*x\n",
    "    # Calculate the log-likelihood for normal distribution\n",
    "    LL = np.sum(stats.norm.logpdf(y, pred, std_dev))\n",
    "    # Calculate the negative log-likelihood\n",
    "    neg_LL = -1*LL\n",
    "    return neg_LL "
   ]
  },
  {
   "cell_type": "code",
   "execution_count": 10,
   "metadata": {
    "ExecuteTime": {
     "end_time": "2021-07-16T11:58:48.074433Z",
     "start_time": "2021-07-16T11:58:47.605443Z"
    }
   },
   "outputs": [
    {
     "data": {
      "text/plain": [
       "      fun: 298.3426207688484\n",
       " hess_inv: <3x3 LbfgsInvHessProduct with dtype=float64>\n",
       "      jac: array([5.68434189e-06, 2.84217094e-05, 5.68434189e-06])\n",
       "  message: b'CONVERGENCE: REL_REDUCTION_OF_F_<=_FACTR*EPSMCH'\n",
       "     nfev: 244\n",
       "      nit: 37\n",
       "   status: 0\n",
       "  success: True\n",
       "        x: array([19.98293997,  3.99699484,  4.78022614])"
      ]
     },
     "execution_count": 10,
     "metadata": {},
     "output_type": "execute_result"
    }
   ],
   "source": [
    "# minimize arguments: function, intial_guess_of_parameters, method\n",
    "mle_model = minimize(MLE_Norm, np.array([2,2,2]), method='L-BFGS-B', options={'disp': True})\n",
    "mle_model "
   ]
  },
  {
   "cell_type": "raw",
   "metadata": {},
   "source": [
    "defining bounds\n",
    "\n",
    "from scipy.optimize import Bounds\n",
    "bounds = Bounds([0, -0.5], [1.0, 2.0])"
   ]
  },
  {
   "cell_type": "markdown",
   "metadata": {},
   "source": [
    "## Confidence Intervals"
   ]
  },
  {
   "cell_type": "code",
   "execution_count": 5,
   "metadata": {
    "ExecuteTime": {
     "end_time": "2021-07-18T06:41:55.832578Z",
     "start_time": "2021-07-18T06:41:55.818579Z"
    }
   },
   "outputs": [],
   "source": [
    "def abline(slope, intercept=0):\n",
    "    \"\"\"Plot a line from slope and intercept\"\"\"\n",
    "    axes = plt.gca()\n",
    "    x_vals = np.array(axes.get_xlim())\n",
    "    y_vals = intercept + slope * x_vals\n",
    "    plt.plot(x_vals, y_vals, '--')\n",
    "\n",
    "def confidence_interval(n, confidence=0.95):\n",
    "    a = np.random.normal(size=n)\n",
    "    m, se = np.mean(a), stats.sem(a)\n",
    "    h = se * stats.t.ppf((1 + confidence) / 2., n-1)\n",
    "    return m-h, m+h"
   ]
  },
  {
   "cell_type": "code",
   "execution_count": 6,
   "metadata": {
    "ExecuteTime": {
     "end_time": "2021-07-18T06:41:55.966671Z",
     "start_time": "2021-07-18T06:41:55.843574Z"
    }
   },
   "outputs": [],
   "source": [
    "from scipy.stats import ttest_1samp"
   ]
  },
  {
   "cell_type": "code",
   "execution_count": 7,
   "metadata": {
    "ExecuteTime": {
     "end_time": "2021-07-18T06:41:56.196573Z",
     "start_time": "2021-07-18T06:41:55.971577Z"
    }
   },
   "outputs": [
    {
     "data": {
      "text/plain": [
       "Ttest_1sampResult(statistic=0.8245387056792826, pvalue=0.4309431512949804)"
      ]
     },
     "execution_count": 7,
     "metadata": {},
     "output_type": "execute_result"
    }
   ],
   "source": [
    "data = [0.9193010,  0.2162517,  0.1790611, -0.5220764, -0.4086740,  1.5311779,  0.4575750, -0.5996455, 1.8689674, -1.1233079]\n",
    "ttest_1samp(data, popmean = 0)"
   ]
  },
  {
   "cell_type": "code",
   "execution_count": 8,
   "metadata": {
    "ExecuteTime": {
     "end_time": "2021-07-18T06:41:57.363574Z",
     "start_time": "2021-07-18T06:41:57.331581Z"
    }
   },
   "outputs": [
    {
     "data": {
      "text/plain": [
       "(-0.6818218549178646, 0.3547085777445488)"
      ]
     },
     "execution_count": 8,
     "metadata": {},
     "output_type": "execute_result"
    }
   ],
   "source": [
    "confidence_interval(10)"
   ]
  },
  {
   "cell_type": "code",
   "execution_count": 9,
   "metadata": {
    "ExecuteTime": {
     "end_time": "2021-07-18T06:42:17.108571Z",
     "start_time": "2021-07-18T06:42:17.013571Z"
    }
   },
   "outputs": [],
   "source": [
    "x = np.ones((100, 2))*10\n",
    "for i, val in enumerate(x):\n",
    "    x[i] = confidence_interval(10)"
   ]
  },
  {
   "cell_type": "code",
   "execution_count": 10,
   "metadata": {
    "ExecuteTime": {
     "end_time": "2021-07-18T06:42:18.725575Z",
     "start_time": "2021-07-18T06:42:17.591580Z"
    }
   },
   "outputs": [
    {
     "data": {
      "image/png": "[encoded data removed]",
      "text/plain": [
       "<Figure size 792x648 with 1 Axes>"
      ]
     },
     "metadata": {
      "needs_background": "light"
     },
     "output_type": "display_data"
    }
   ],
   "source": [
    "f, ax = plt.subplots(figsize =(11, 9))\n",
    "plt.plot(x[:, 0])\n",
    "plt.plot(x[:, 1])\n",
    "abline(0,0)"
   ]
  },
  {
   "cell_type": "code",
   "execution_count": 11,
   "metadata": {
    "ExecuteTime": {
     "end_time": "2021-07-17T06:34:09.697342Z",
     "start_time": "2021-07-17T06:34:09.688343Z"
    }
   },
   "outputs": [
    {
     "data": {
      "text/plain": [
       "0.96"
      ]
     },
     "execution_count": 11,
     "metadata": {},
     "output_type": "execute_result"
    }
   ],
   "source": [
    "num = (x[:, 0] < 0) & (x[:, 1] >0)\n",
    "num.sum()/x.shape[0]"
   ]
  },
  {
   "cell_type": "code",
   "execution_count": 12,
   "metadata": {
    "ExecuteTime": {
     "end_time": "2021-07-17T06:34:10.564460Z",
     "start_time": "2021-07-17T06:34:10.348330Z"
    }
   },
   "outputs": [],
   "source": [
    "import researchpy as rp\n",
    "# rp.ttest(data)\n",
    "# https://www.pythonfordatascience.org/independent-samples-t-test-python/"
   ]
  },
  {
   "cell_type": "code",
   "execution_count": 11,
   "metadata": {
    "ExecuteTime": {
     "end_time": "2021-07-18T06:42:33.041573Z",
     "start_time": "2021-07-18T06:42:33.024572Z"
    }
   },
   "outputs": [
    {
     "data": {
      "text/plain": [
       "(0.34950849576669035, 0.3812527660468855)"
      ]
     },
     "execution_count": 11,
     "metadata": {},
     "output_type": "execute_result"
    }
   ],
   "source": [
    "stats.beta(1291, 2243).ppf(.025), stats.beta(1291, 2243).ppf(.975)"
   ]
  },
  {
   "cell_type": "code",
   "execution_count": 12,
   "metadata": {
    "ExecuteTime": {
     "end_time": "2021-07-18T06:42:35.410575Z",
     "start_time": "2021-07-18T06:42:35.131569Z"
    }
   },
   "outputs": [
    {
     "data": {
      "text/plain": [
       "[<matplotlib.lines.Line2D at 0x21315643eb8>]"
      ]
     },
     "execution_count": 12,
     "metadata": {},
     "output_type": "execute_result"
    },
    {
     "data": {
      "image/png": "[encoded data removed]",
      "text/plain": [
       "<Figure size 432x288 with 1 Axes>"
      ]
     },
     "metadata": {
      "needs_background": "light"
     },
     "output_type": "display_data"
    }
   ],
   "source": [
    "x = np.linspace(0.3, 0.4, num =100)\n",
    "plt.plot(x, stats.beta(1291, 2243).pdf(x))\n",
    "plt.plot(x, stats.beta(616, 1094).pdf(x))"
   ]
  },
  {
   "cell_type": "code",
   "execution_count": 16,
   "metadata": {
    "ExecuteTime": {
     "end_time": "2021-07-17T06:37:50.086370Z",
     "start_time": "2021-07-17T06:37:50.050342Z"
    }
   },
   "outputs": [
    {
     "data": {
      "text/plain": [
       "array([2., 9.])"
      ]
     },
     "execution_count": 16,
     "metadata": {},
     "output_type": "execute_result"
    }
   ],
   "source": [
    "stats.binom(11, 0.5).ppf(q = [0.025, 0.975])"
   ]
  },
  {
   "cell_type": "code",
   "execution_count": 20,
   "metadata": {
    "ExecuteTime": {
     "end_time": "2021-07-17T06:42:02.840862Z",
     "start_time": "2021-07-17T06:42:02.828858Z"
    }
   },
   "outputs": [
    {
     "data": {
      "text/plain": [
       "0.96142578125"
      ]
     },
     "execution_count": 20,
     "metadata": {},
     "output_type": "execute_result"
    }
   ],
   "source": [
    "stats.binom(11, 0.5).cdf(8) - stats.binom(11, 0.5).cdf(1)"
   ]
  },
  {
   "cell_type": "code",
   "execution_count": 13,
   "metadata": {
    "ExecuteTime": {
     "end_time": "2021-07-18T06:42:38.210577Z",
     "start_time": "2021-07-18T06:42:38.205572Z"
    }
   },
   "outputs": [],
   "source": [
    "def f(n):\n",
    "    X = stats.uniform().rvs(n)\n",
    "    Y = np.sort(X)\n",
    "    return (Y[2], Y[9])"
   ]
  },
  {
   "cell_type": "code",
   "execution_count": 37,
   "metadata": {
    "ExecuteTime": {
     "end_time": "2021-07-17T06:45:13.472898Z",
     "start_time": "2021-07-17T06:45:13.462859Z"
    }
   },
   "outputs": [
    {
     "data": {
      "text/plain": [
       "(0.09549752538254042, 0.7960134600330862)"
      ]
     },
     "execution_count": 37,
     "metadata": {},
     "output_type": "execute_result"
    }
   ],
   "source": [
    "f(11)"
   ]
  },
  {
   "cell_type": "markdown",
   "metadata": {},
   "source": [
    "## Hypothesis Testing"
   ]
  },
  {
   "cell_type": "code",
   "execution_count": 14,
   "metadata": {
    "ExecuteTime": {
     "end_time": "2021-07-18T06:42:40.367580Z",
     "start_time": "2021-07-18T06:42:40.169572Z"
    }
   },
   "outputs": [
    {
     "data": {
      "text/html": [
       "<div>\n",
       "<style scoped>\n",
       "    .dataframe tbody tr th:only-of-type {\n",
       "        vertical-align: middle;\n",
       "    }\n",
       "\n",
       "    .dataframe tbody tr th {\n",
       "        vertical-align: top;\n",
       "    }\n",
       "\n",
       "    .dataframe thead th {\n",
       "        text-align: right;\n",
       "    }\n",
       "</style>\n",
       "<table border=\"1\" class=\"dataframe\">\n",
       "  <thead>\n",
       "    <tr style=\"text-align: right;\">\n",
       "      <th></th>\n",
       "      <th>y</th>\n",
       "      <th>n</th>\n",
       "    </tr>\n",
       "  </thead>\n",
       "  <tbody>\n",
       "    <tr>\n",
       "      <th>0</th>\n",
       "      <td>8</td>\n",
       "      <td>56</td>\n",
       "    </tr>\n",
       "    <tr>\n",
       "      <th>1</th>\n",
       "      <td>13</td>\n",
       "      <td>55</td>\n",
       "    </tr>\n",
       "    <tr>\n",
       "      <th>2</th>\n",
       "      <td>12</td>\n",
       "      <td>58</td>\n",
       "    </tr>\n",
       "    <tr>\n",
       "      <th>3</th>\n",
       "      <td>13</td>\n",
       "      <td>56</td>\n",
       "    </tr>\n",
       "    <tr>\n",
       "      <th>4</th>\n",
       "      <td>14</td>\n",
       "      <td>57</td>\n",
       "    </tr>\n",
       "  </tbody>\n",
       "</table>\n",
       "</div>"
      ],
      "text/plain": [
       "    y   n\n",
       "0   8  56\n",
       "1  13  55\n",
       "2  12  58\n",
       "3  13  56\n",
       "4  14  57"
      ]
     },
     "execution_count": 14,
     "metadata": {},
     "output_type": "execute_result"
    }
   ],
   "source": [
    "d = {'y': [8 ,13 ,12 ,13 ,14 , 5, 14,15, 11, 13, 10,  8, 10, 11, 12, 11,  6,  7, 12, 14], 'n': [56 ,55, 58, 56, 57, 54, 56, 57, 54, 55, 57, 59, 54, 55, 56, 57, 54, 58, 58, 58]}\n",
    "data = pd.DataFrame(data =d)\n",
    "data.head()"
   ]
  },
  {
   "cell_type": "code",
   "execution_count": 16,
   "metadata": {
    "ExecuteTime": {
     "end_time": "2021-07-18T06:43:00.139676Z",
     "start_time": "2021-07-18T06:42:59.707572Z"
    }
   },
   "outputs": [],
   "source": [
    "data['phat'] = data.y/data.n\n",
    "data.phat = abs(data.phat-0.2)/np.sqrt(0.2*0.8/data.n)"
   ]
  },
  {
   "cell_type": "code",
   "execution_count": 17,
   "metadata": {
    "ExecuteTime": {
     "end_time": "2021-07-18T06:43:00.805579Z",
     "start_time": "2021-07-18T06:43:00.795572Z"
    }
   },
   "outputs": [
    {
     "data": {
      "text/plain": [
       "0.05"
      ]
     },
     "execution_count": 17,
     "metadata": {},
     "output_type": "execute_result"
    }
   ],
   "source": [
    "(np.sum(data.phat>1.96))/20"
   ]
  },
  {
   "cell_type": "code",
   "execution_count": 18,
   "metadata": {
    "ExecuteTime": {
     "end_time": "2021-07-18T06:43:01.801574Z",
     "start_time": "2021-07-18T06:43:01.769573Z"
    }
   },
   "outputs": [
    {
     "data": {
      "text/plain": [
       "0.9"
      ]
     },
     "execution_count": 18,
     "metadata": {},
     "output_type": "execute_result"
    }
   ],
   "source": [
    "# CI = phat +- 1.96*sqrt(0.2*0.8/n)\n",
    "x = pd.DataFrame(data = {'lowB' :(data.y/data.n - 1.96*np.sqrt((data.y/data.n)*(1 - (data.y/data.n))/data.n)), 'uppB':(data.y/data.n + 1.96*np.sqrt((data.y/data.n)*(1 - (data.y/data.n))/data.n))})\n",
    "np.sum((x.lowB < 0.2) & (x.uppB >0.2))/20"
   ]
  },
  {
   "cell_type": "code",
   "execution_count": 19,
   "metadata": {
    "ExecuteTime": {
     "end_time": "2021-07-18T06:43:02.968575Z",
     "start_time": "2021-07-18T06:43:02.684572Z"
    }
   },
   "outputs": [
    {
     "data": {
      "image/png": "[encoded data removed]",
      "text/plain": [
       "<Figure size 432x288 with 1 Axes>"
      ]
     },
     "metadata": {
      "needs_background": "light"
     },
     "output_type": "display_data"
    }
   ],
   "source": [
    "plt.plot(x.lowB)\n",
    "plt.plot(x.uppB)\n",
    "abline(0, 0.2)"
   ]
  },
  {
   "cell_type": "markdown",
   "metadata": {},
   "source": [
    "### Type I and Type II errors"
   ]
  },
  {
   "cell_type": "markdown",
   "metadata": {},
   "source": [
    "TIP: \n",
    "*Type 1* error is the probability of rejecting h0 when h0 is TRUE\n",
    "\n",
    "*Type 2* error is the probability of not rejecting h0 when h1 is TRUE\n",
    "\n",
    "if value lies in the critical region, then it means reject h0"
   ]
  },
  {
   "cell_type": "code",
   "execution_count": 65,
   "metadata": {
    "ExecuteTime": {
     "end_time": "2021-07-17T09:13:47.647296Z",
     "start_time": "2021-07-17T09:13:47.634293Z"
    }
   },
   "outputs": [
    {
     "data": {
      "text/plain": [
       "0.17187499999999994"
      ]
     },
     "execution_count": 65,
     "metadata": {},
     "output_type": "execute_result"
    }
   ],
   "source": [
    "alpha = stats.binom(10, 0.5).cdf(3.5)\n",
    "alpha"
   ]
  },
  {
   "cell_type": "code",
   "execution_count": 66,
   "metadata": {
    "ExecuteTime": {
     "end_time": "2021-07-17T09:14:39.576293Z",
     "start_time": "2021-07-17T09:14:39.564293Z"
    }
   },
   "outputs": [
    {
     "data": {
      "text/plain": [
       "0.22412490844726562"
      ]
     },
     "execution_count": 66,
     "metadata": {},
     "output_type": "execute_result"
    }
   ],
   "source": [
    "beta = 1- stats.binom(10, 0.25).cdf(3.5)\n",
    "beta"
   ]
  },
  {
   "cell_type": "code",
   "execution_count": 79,
   "metadata": {
    "ExecuteTime": {
     "end_time": "2021-07-17T09:22:51.904903Z",
     "start_time": "2021-07-17T09:22:51.894216Z"
    }
   },
   "outputs": [
    {
     "data": {
      "text/plain": [
       "0.23"
      ]
     },
     "execution_count": 79,
     "metadata": {},
     "output_type": "execute_result"
    }
   ],
   "source": [
    "np.sum(stats.binom(10,p =0.25).rvs(200) > 3.5)/200"
   ]
  },
  {
   "cell_type": "markdown",
   "metadata": {},
   "source": [
    "<strong>Q.</strong> A ball is drawn from one of two bowls. Bowl A contains 100 red balls and 200 white\n",
    "balls; Bowl B contains 200 red balls and 100 white balls. Let p denote the probability\n",
    "of drawing a red ball from the bowl. Then p is unknown as we don’t know which\n",
    "bowl is being used.To test the simple null hypothesis H0 : p = 1/3 against the simple\n",
    "alternative that p = 2/3, three balls are drawn at random with replacement from the\n",
    "selected bowl. Let X be the number of red balls drawn. Let the critical region be\n",
    "C = {x : x = 2, 3}. Using R, what are the probabilities alpha and beta respectively of Type\n",
    "I and Type II errors?"
   ]
  },
  {
   "cell_type": "code",
   "execution_count": 100,
   "metadata": {
    "ExecuteTime": {
     "end_time": "2021-07-17T09:34:38.486468Z",
     "start_time": "2021-07-17T09:34:38.471465Z"
    }
   },
   "outputs": [
    {
     "data": {
      "text/plain": [
       "0.2592592592592592"
      ]
     },
     "execution_count": 100,
     "metadata": {},
     "output_type": "execute_result"
    }
   ],
   "source": [
    "# For Bowl A, p = 1/3 and Bowl B, p = 2/3\n",
    "\n",
    "np.sum(stats.binom(3, p =1/3).pmf([2, 3]))"
   ]
  },
  {
   "cell_type": "code",
   "execution_count": 102,
   "metadata": {
    "ExecuteTime": {
     "end_time": "2021-07-17T09:35:16.236466Z",
     "start_time": "2021-07-17T09:35:16.223462Z"
    }
   },
   "outputs": [
    {
     "data": {
      "text/plain": [
       "0.2592592592592593"
      ]
     },
     "execution_count": 102,
     "metadata": {},
     "output_type": "execute_result"
    }
   ],
   "source": [
    "# For Bowl A, p = 1/3 and Bowl B, p = 2/3\n",
    "\n",
    "1-np.sum(stats.binom(3, p =2/3).pmf([2, 3]))"
   ]
  },
  {
   "cell_type": "markdown",
   "metadata": {},
   "source": [
    "<strong>Q.</strong> Let Y ~ binomial(100; p). To test H0 : p = 0.08 against H1 : p < 0.08, we reject H0\n",
    "and accept H1 if and only if Y <= 6. Using Python,\n",
    "\n",
    "a. Determine the significance level alpha of the test."
   ]
  },
  {
   "cell_type": "code",
   "execution_count": 121,
   "metadata": {
    "ExecuteTime": {
     "end_time": "2021-07-17T09:41:55.234466Z",
     "start_time": "2021-07-17T09:41:55.222465Z"
    }
   },
   "outputs": [
    {
     "data": {
      "text/plain": [
       "0.3031559914686833"
      ]
     },
     "execution_count": 121,
     "metadata": {},
     "output_type": "execute_result"
    }
   ],
   "source": [
    "stats.binom(100, 0.08).cdf(6)"
   ]
  },
  {
   "cell_type": "markdown",
   "metadata": {},
   "source": [
    "b. Find the probability of a Type II error if in fact p = 0:04."
   ]
  },
  {
   "cell_type": "code",
   "execution_count": 124,
   "metadata": {
    "ExecuteTime": {
     "end_time": "2021-07-17T09:44:22.814474Z",
     "start_time": "2021-07-17T09:44:22.803469Z"
    }
   },
   "outputs": [
    {
     "data": {
      "text/plain": [
       "0.10639231790455839"
      ]
     },
     "execution_count": 124,
     "metadata": {},
     "output_type": "execute_result"
    }
   ],
   "source": [
    "1 - stats.binom(100, 0.04).cdf(6)"
   ]
  },
  {
   "cell_type": "markdown",
   "metadata": {},
   "source": [
    "<strong>Q.</strong> A company that manufactures brackets for an auto maker regularly selects brackets from the production line and performs a torque test. The goal is for the mean torque to equal 125. Let X ~ N(mu; sigma^2) be the torque and suppose we take a random sample of size n = 15 to test H0 : mu = 125 against a two sided alternative. Suppose the following data are observed:\n",
    "\n",
    "128 149 136 114 126 142 124 136 122 118 122 129 118 122 129\n",
    "\n",
    "Use the t.test command to test the hypotheses and construct a 95% confidence interval for mu."
   ]
  },
  {
   "cell_type": "code",
   "execution_count": 125,
   "metadata": {
    "ExecuteTime": {
     "end_time": "2021-07-17T10:14:01.507470Z",
     "start_time": "2021-07-17T10:14:01.497464Z"
    }
   },
   "outputs": [],
   "source": [
    "data = [128, 149, 136, 114, 126, 142, 124, 136 ,122, 118 ,122, 129, 118, 122, 129]"
   ]
  },
  {
   "cell_type": "code",
   "execution_count": 127,
   "metadata": {
    "ExecuteTime": {
     "end_time": "2021-07-17T10:15:24.266465Z",
     "start_time": "2021-07-17T10:15:24.253462Z"
    }
   },
   "outputs": [
    {
     "data": {
      "text/plain": [
       "Ttest_1sampResult(statistic=1.0762069052923653, pvalue=0.3000316671916328)"
      ]
     },
     "execution_count": 127,
     "metadata": {},
     "output_type": "execute_result"
    }
   ],
   "source": [
    "stats.ttest_1samp(data, popmean = 125)"
   ]
  },
  {
   "cell_type": "code",
   "execution_count": 139,
   "metadata": {
    "ExecuteTime": {
     "end_time": "2021-07-17T10:32:45.912199Z",
     "start_time": "2021-07-17T10:32:45.903189Z"
    }
   },
   "outputs": [
    {
     "data": {
      "text/plain": [
       "1.0762069052923653"
      ]
     },
     "execution_count": 139,
     "metadata": {},
     "output_type": "execute_result"
    }
   ],
   "source": [
    "t_statistic = (np.mean(data) - 125)/(np.std(data, ddof =1)/np.sqrt(15))\n",
    "t_statistic"
   ]
  },
  {
   "cell_type": "code",
   "execution_count": 143,
   "metadata": {
    "ExecuteTime": {
     "end_time": "2021-07-17T15:01:44.919502Z",
     "start_time": "2021-07-17T15:01:44.908505Z"
    }
   },
   "outputs": [
    {
     "data": {
      "text/plain": [
       "'\\nTip for p_value calculation: If we need 2 sided hypothesis, we multiply by 2. If \"greater\", then we don\\'t. If \"less\" then\\ndon\\'t subtract by one.\\n'"
      ]
     },
     "execution_count": 143,
     "metadata": {},
     "output_type": "execute_result"
    }
   ],
   "source": [
    "'''\n",
    "Tip for p_value calculation: If we need 2 sided hypothesis, we multiply by 2. If \"greater\", then we don't. If \"less\" then\n",
    "don't subtract by one.\n",
    "'''"
   ]
  },
  {
   "cell_type": "code",
   "execution_count": 140,
   "metadata": {
    "ExecuteTime": {
     "end_time": "2021-07-17T10:35:29.321195Z",
     "start_time": "2021-07-17T10:35:29.299207Z"
    }
   },
   "outputs": [
    {
     "data": {
      "text/plain": [
       "0.30003166719163277"
      ]
     },
     "execution_count": 140,
     "metadata": {},
     "output_type": "execute_result"
    }
   ],
   "source": [
    "p_value = 2*(1-stats.t(14).cdf(t_statistic))\n",
    "p_value"
   ]
  },
  {
   "cell_type": "code",
   "execution_count": 141,
   "metadata": {
    "ExecuteTime": {
     "end_time": "2021-07-17T10:39:12.844456Z",
     "start_time": "2021-07-17T10:39:12.822451Z"
    }
   },
   "outputs": [
    {
     "data": {
      "text/plain": [
       "(122.35223210984256, 132.98110122349078)"
      ]
     },
     "execution_count": 141,
     "metadata": {},
     "output_type": "execute_result"
    }
   ],
   "source": [
    "CI =(np.mean(data) - np.std(data, ddof =1)*stats.t(len(data)-1).ppf(0.975)/np.sqrt(len(data)), \n",
    "np.mean(data) + np.std(data, ddof =1)*stats.t(len(data)-1).ppf(0.975)/np.sqrt(len(data)))\n",
    "CI"
   ]
  },
  {
   "cell_type": "markdown",
   "metadata": {},
   "source": [
    "<strong>Q.</strong> Let X be the weight in grams of a Low Fat Strawberry Kudo and Y ther weight of a Low Fat Blueberry Kudo. Assume X ~ N(mu_X; sigma_X^2) and Y ~ N(mu_Y; sigma_Y^2). A random sample of 9 observations on X yielded\n",
    "\n",
    "21.7, 21.0, 21.2, 20.7, 20.4, 21.9, 20.2, 21.6, 20.6\n",
    "\n",
    "and a random sample of 13 observations on Y yielded\n",
    "\n",
    "21.5, 20.5, 20.3, 21.6, 21.7, 21.3, 23.0, 21.3, 18.9, 20.0, 20.4, 20.8, 20.3"
   ]
  },
  {
   "cell_type": "markdown",
   "metadata": {},
   "source": [
    "<strong>(a).</strong> Test H0 : mu_X = mu_Y against a two-sided alternative. You may choose the significance level."
   ]
  },
  {
   "cell_type": "code",
   "execution_count": 48,
   "metadata": {
    "ExecuteTime": {
     "end_time": "2021-07-18T12:50:20.567422Z",
     "start_time": "2021-07-18T12:50:20.548421Z"
    }
   },
   "outputs": [
    {
     "data": {
      "text/plain": [
       "Ttest_indResult(statistic=0.40908591464647465, pvalue=0.686881426472918)"
      ]
     },
     "execution_count": 48,
     "metadata": {},
     "output_type": "execute_result"
    }
   ],
   "source": [
    "X = [21.7, 21.0, 21.2, 20.7, 20.4, 21.9, 20.2, 21.6, 20.6]\n",
    "Y = [21.5, 20.5, 20.3, 21.6, 21.7, 21.3, 23.0, 21.3, 18.9, 20.0, 20.4, 20.8, 20.3]\n",
    "stats.ttest_ind(X, Y, equal_var=False)"
   ]
  },
  {
   "cell_type": "code",
   "execution_count": 22,
   "metadata": {
    "ExecuteTime": {
     "end_time": "2021-07-18T06:44:19.300583Z",
     "start_time": "2021-07-18T06:44:19.290572Z"
    }
   },
   "outputs": [
    {
     "data": {
      "text/plain": [
       "0.40908591464647465"
      ]
     },
     "execution_count": 22,
     "metadata": {},
     "output_type": "execute_result"
    }
   ],
   "source": [
    "t_statistic = (np.mean(X) - np.mean(Y))/np.sqrt((np.var(X, ddof =1)/len(X))+((np.var(Y, ddof =1))/len(Y)))\n",
    "t_statistic"
   ]
  },
  {
   "cell_type": "code",
   "execution_count": 23,
   "metadata": {
    "ExecuteTime": {
     "end_time": "2021-07-18T06:44:19.545577Z",
     "start_time": "2021-07-18T06:44:19.534572Z"
    }
   },
   "outputs": [
    {
     "data": {
      "text/plain": [
       "0.6868815035243971"
      ]
     },
     "execution_count": 23,
     "metadata": {},
     "output_type": "execute_result"
    }
   ],
   "source": [
    "p_value = 2*(1-stats.t(19.738).cdf(t_statistic))\n",
    "p_value"
   ]
  },
  {
   "cell_type": "code",
   "execution_count": 67,
   "metadata": {
    "ExecuteTime": {
     "end_time": "2021-07-18T13:02:50.098421Z",
     "start_time": "2021-07-18T13:02:49.859422Z"
    },
    "scrolled": true
   },
   "outputs": [
    {
     "data": {
      "text/plain": [
       "[]"
      ]
     },
     "execution_count": 67,
     "metadata": {},
     "output_type": "execute_result"
    },
    {
     "data": {
      "image/png": "[encoded data removed]",
      "text/plain": [
       "<Figure size 432x288 with 1 Axes>"
      ]
     },
     "metadata": {
      "needs_background": "light"
     },
     "output_type": "display_data"
    }
   ],
   "source": [
    "bplot = {'X':X, 'Y':Y}\n",
    "f, ax = plt.subplots()\n",
    "ax.boxplot(bplot.values())\n",
    "ax.set_xticklabels(bplot.keys())\n",
    "ax.plot()"
   ]
  },
  {
   "cell_type": "markdown",
   "metadata": {},
   "source": [
    "<strong>Q.</strong> Let X1,....,X12 be a random sample from an exponential distribution with mean theta. Then f(x; theta) = theta^-1.exp(-x/theta),  0 < x < inf. We shall test the null hypothesis H0 :theta = 9 against the alternative H1 : theta not= 9."
   ]
  },
  {
   "cell_type": "code",
   "execution_count": 29,
   "metadata": {
    "ExecuteTime": {
     "end_time": "2021-07-18T06:58:52.130993Z",
     "start_time": "2021-07-18T06:58:52.101985Z"
    }
   },
   "outputs": [
    {
     "data": {
      "text/plain": [
       "13.848425027170224"
      ]
     },
     "execution_count": 29,
     "metadata": {},
     "output_type": "execute_result"
    }
   ],
   "source": [
    "stats.chi2(24).ppf(0.05)"
   ]
  },
  {
   "cell_type": "code",
   "execution_count": 30,
   "metadata": {
    "ExecuteTime": {
     "end_time": "2021-07-18T07:00:05.204988Z",
     "start_time": "2021-07-18T07:00:05.193983Z"
    }
   },
   "outputs": [
    {
     "data": {
      "text/plain": [
       "36.41502850180731"
      ]
     },
     "execution_count": 30,
     "metadata": {},
     "output_type": "execute_result"
    }
   ],
   "source": [
    "stats.chi2(24).ppf(0.95)"
   ]
  },
  {
   "cell_type": "code",
   "execution_count": 31,
   "metadata": {
    "ExecuteTime": {
     "end_time": "2021-07-18T07:03:48.700989Z",
     "start_time": "2021-07-18T07:03:48.691995Z"
    }
   },
   "outputs": [],
   "source": [
    "X = [5.625, 5.665, 5.697, 5.837, 5.863, 5.87, 5.878,\n",
    "5.884, 5.908, 5.967, 6.019, 6.02, 6.029, 6.032,\n",
    "6.037, 6.045, 6.049, 6.05, 6.079, 6.116, 6.159,\n",
    "6.186, 6.199, 6.307, 6.387]"
   ]
  },
  {
   "cell_type": "code",
   "execution_count": 43,
   "metadata": {
    "ExecuteTime": {
     "end_time": "2021-07-18T07:07:32.844983Z",
     "start_time": "2021-07-18T07:07:32.834985Z"
    }
   },
   "outputs": [
    {
     "data": {
      "text/plain": [
       "WilcoxonResult(statistic=248.0, pvalue=0.01070879588536288)"
      ]
     },
     "execution_count": 43,
     "metadata": {},
     "output_type": "execute_result"
    }
   ],
   "source": [
    "stats.wilcoxon(Y, alternative='greater')"
   ]
  },
  {
   "cell_type": "code",
   "execution_count": 36,
   "metadata": {
    "ExecuteTime": {
     "end_time": "2021-07-18T07:05:28.665987Z",
     "start_time": "2021-07-18T07:05:28.659985Z"
    }
   },
   "outputs": [],
   "source": [
    "Y = np.array(X)-5.9"
   ]
  },
  {
   "cell_type": "code",
   "execution_count": 45,
   "metadata": {
    "ExecuteTime": {
     "end_time": "2021-07-18T12:37:11.965608Z",
     "start_time": "2021-07-18T12:37:11.924608Z"
    }
   },
   "outputs": [
    {
     "data": {
      "text/plain": [
       "Ttest_1sampResult(statistic=2.6077466535570872, pvalue=0.015431655566611325)"
      ]
     },
     "execution_count": 45,
     "metadata": {},
     "output_type": "execute_result"
    }
   ],
   "source": [
    "stats.ttest_1samp(X, popmean=5.9)"
   ]
  },
  {
   "cell_type": "code",
   "execution_count": 44,
   "metadata": {
    "ExecuteTime": {
     "end_time": "2021-07-18T09:10:52.753872Z",
     "start_time": "2021-07-18T09:10:52.731856Z"
    }
   },
   "outputs": [
    {
     "data": {
      "text/plain": [
       "0.007715827783305662"
      ]
     },
     "execution_count": 44,
     "metadata": {},
     "output_type": "execute_result"
    }
   ],
   "source": [
    "0.015431655566611325/2"
   ]
  }
 ],
 "metadata": {
  "kernelspec": {
   "display_name": "Python 3",
   "language": "python",
   "name": "python3"
  },
  "language_info": {
   "codemirror_mode": {
    "name": "ipython",
    "version": 3
   },
   "file_extension": ".py",
   "mimetype": "text/x-python",
   "name": "python",
   "nbconvert_exporter": "python",
   "pygments_lexer": "ipython3",
   "version": "3.6.9"
  }
 },
 "nbformat": 4,
 "nbformat_minor": 2
}
