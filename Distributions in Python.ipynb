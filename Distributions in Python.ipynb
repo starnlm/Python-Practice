{
 "cells": [
  {
   "cell_type": "code",
   "execution_count": 1,
   "metadata": {
    "ExecuteTime": {
     "end_time": "2021-07-17T06:32:41.844433Z",
     "start_time": "2021-07-17T06:32:40.828330Z"
    }
   },
   "outputs": [],
   "source": [
    "import numpy as np\n",
    "import pandas as pd"
   ]
  },
  {
   "cell_type": "code",
   "execution_count": 2,
   "metadata": {
    "ExecuteTime": {
     "end_time": "2021-07-17T06:32:42.710432Z",
     "start_time": "2021-07-17T06:32:41.848331Z"
    }
   },
   "outputs": [],
   "source": [
    "import seaborn as sns\n",
    "import matplotlib.pyplot as plt"
   ]
  },
  {
   "cell_type": "code",
   "execution_count": 3,
   "metadata": {
    "ExecuteTime": {
     "end_time": "2021-07-17T06:32:42.720343Z",
     "start_time": "2021-07-17T06:32:42.713340Z"
    }
   },
   "outputs": [],
   "source": [
    "import scipy.stats as stats"
   ]
  },
  {
   "cell_type": "code",
   "execution_count": 7,
   "metadata": {},
   "outputs": [
    {
     "data": {
      "text/plain": [
       "1"
      ]
     },
     "execution_count": 7,
     "metadata": {},
     "output_type": "execute_result"
    }
   ],
   "source": [
    "np.random.binomial(1, 0.5)"
   ]
  },
  {
   "cell_type": "code",
   "execution_count": 33,
   "metadata": {},
   "outputs": [
    {
     "data": {
      "text/plain": [
       "531"
      ]
     },
     "execution_count": 33,
     "metadata": {},
     "output_type": "execute_result"
    }
   ],
   "source": [
    "np.random.binomial(1000, 0.5)"
   ]
  },
  {
   "cell_type": "code",
   "execution_count": 48,
   "metadata": {},
   "outputs": [
    {
     "data": {
      "text/plain": [
       "0.0218"
      ]
     },
     "execution_count": 48,
     "metadata": {},
     "output_type": "execute_result"
    }
   ],
   "source": [
    "n = np.random.binomial(20, .5, 10000)\n",
    "(n>=15).mean()"
   ]
  },
  {
   "cell_type": "code",
   "execution_count": 120,
   "metadata": {},
   "outputs": [
    {
     "data": {
      "text/plain": [
       "1.6659"
      ]
     },
     "execution_count": 120,
     "metadata": {},
     "output_type": "execute_result"
    }
   ],
   "source": [
    "np.random.binomial(10, 1/6, 10000).mean()"
   ]
  },
  {
   "cell_type": "code",
   "execution_count": 121,
   "metadata": {},
   "outputs": [
    {
     "data": {
      "text/plain": [
       "1.6666666666666667"
      ]
     },
     "execution_count": 121,
     "metadata": {},
     "output_type": "execute_result"
    }
   ],
   "source": [
    "10/6"
   ]
  },
  {
   "cell_type": "code",
   "execution_count": 133,
   "metadata": {},
   "outputs": [],
   "source": [
    "x = np.random.normal(5, 2, size = 10000)"
   ]
  },
  {
   "cell_type": "code",
   "execution_count": 140,
   "metadata": {},
   "outputs": [
    {
     "data": {
      "text/plain": [
       "<matplotlib.axes._subplots.AxesSubplot at 0x21fa1c567b8>"
      ]
     },
     "execution_count": 140,
     "metadata": {},
     "output_type": "execute_result"
    },
    {
     "data": {
      "image/png": "[encoded data removed]",
      "text/plain": [
       "<Figure size 432x288 with 1 Axes>"
      ]
     },
     "metadata": {
      "needs_background": "light"
     },
     "output_type": "display_data"
    }
   ],
   "source": [
    "sns.distplot(x, kde = True, fill = True)"
   ]
  },
  {
   "cell_type": "code",
   "execution_count": 137,
   "metadata": {},
   "outputs": [
    {
     "data": {
      "text/plain": [
       "0.0313288290263335"
      ]
     },
     "execution_count": 137,
     "metadata": {},
     "output_type": "execute_result"
    }
   ],
   "source": [
    "stats.skew(x)"
   ]
  },
  {
   "cell_type": "markdown",
   "metadata": {},
   "source": [
    "## Maximum Likelihood Estimation"
   ]
  },
  {
   "cell_type": "code",
   "execution_count": 4,
   "metadata": {
    "ExecuteTime": {
     "end_time": "2021-07-17T06:32:47.731364Z",
     "start_time": "2021-07-17T06:32:46.586330Z"
    }
   },
   "outputs": [],
   "source": [
    "import numpy as np\n",
    "import pandas as pd\n",
    "from matplotlib import pyplot as plt\n",
    "import seaborn as sns\n",
    "import statsmodels.api as sm\n",
    "from scipy import stats\n",
    "from scipy.optimize import minimize "
   ]
  },
  {
   "cell_type": "code",
   "execution_count": 5,
   "metadata": {
    "ExecuteTime": {
     "end_time": "2021-07-16T11:58:44.618558Z",
     "start_time": "2021-07-16T11:58:44.184543Z"
    }
   },
   "outputs": [
    {
     "data": {
      "text/html": [
       "<div>\n",
       "<style scoped>\n",
       "    .dataframe tbody tr th:only-of-type {\n",
       "        vertical-align: middle;\n",
       "    }\n",
       "\n",
       "    .dataframe tbody tr th {\n",
       "        vertical-align: top;\n",
       "    }\n",
       "\n",
       "    .dataframe thead th {\n",
       "        text-align: right;\n",
       "    }\n",
       "</style>\n",
       "<table border=\"1\" class=\"dataframe\">\n",
       "  <thead>\n",
       "    <tr style=\"text-align: right;\">\n",
       "      <th></th>\n",
       "      <th>x</th>\n",
       "      <th>y</th>\n",
       "    </tr>\n",
       "  </thead>\n",
       "  <tbody>\n",
       "    <tr>\n",
       "      <th>0</th>\n",
       "      <td>-10.000000</td>\n",
       "      <td>-16.682258</td>\n",
       "    </tr>\n",
       "    <tr>\n",
       "      <th>1</th>\n",
       "      <td>-9.595960</td>\n",
       "      <td>-19.150412</td>\n",
       "    </tr>\n",
       "    <tr>\n",
       "      <th>2</th>\n",
       "      <td>-9.191919</td>\n",
       "      <td>-21.490804</td>\n",
       "    </tr>\n",
       "    <tr>\n",
       "      <th>3</th>\n",
       "      <td>-8.787879</td>\n",
       "      <td>-15.230049</td>\n",
       "    </tr>\n",
       "    <tr>\n",
       "      <th>4</th>\n",
       "      <td>-8.383838</td>\n",
       "      <td>-15.370746</td>\n",
       "    </tr>\n",
       "  </tbody>\n",
       "</table>\n",
       "</div>"
      ],
      "text/plain": [
       "           x          y\n",
       "0 -10.000000 -16.682258\n",
       "1  -9.595960 -19.150412\n",
       "2  -9.191919 -21.490804\n",
       "3  -8.787879 -15.230049\n",
       "4  -8.383838 -15.370746"
      ]
     },
     "execution_count": 5,
     "metadata": {},
     "output_type": "execute_result"
    }
   ],
   "source": [
    "# generate an independent variable \n",
    "x = np.linspace(-10, 30, 100)\n",
    "# generate a normally distributed residual\n",
    "e = np.random.normal(10, 5, 100)\n",
    "# generate ground truth\n",
    "y = 10 + 4*x + e\n",
    "df = pd.DataFrame({'x':x, 'y':y})\n",
    "df.head()"
   ]
  },
  {
   "cell_type": "code",
   "execution_count": 6,
   "metadata": {
    "ExecuteTime": {
     "end_time": "2021-07-16T11:58:47.081401Z",
     "start_time": "2021-07-16T11:58:44.635880Z"
    }
   },
   "outputs": [
    {
     "data": {
      "image/png": "[encoded data removed]",
      "text/plain": [
       "<Figure size 432x288 with 1 Axes>"
      ]
     },
     "metadata": {
      "needs_background": "light"
     },
     "output_type": "display_data"
    }
   ],
   "source": [
    "sns.regplot(x='x', y='y', data = df)\n",
    "plt.show() "
   ]
  },
  {
   "cell_type": "code",
   "execution_count": 12,
   "metadata": {
    "ExecuteTime": {
     "end_time": "2021-07-16T12:31:44.199072Z",
     "start_time": "2021-07-16T12:31:44.178082Z"
    }
   },
   "outputs": [
    {
     "data": {
      "text/plain": [
       "const    19.982938\n",
       "x         3.996995\n",
       "dtype: float64"
      ]
     },
     "execution_count": 12,
     "metadata": {},
     "output_type": "execute_result"
    }
   ],
   "source": [
    "features = sm.add_constant(df.x)\n",
    "model = sm.OLS(y, features).fit()\n",
    "# model.summary()\n",
    "# model.tvalues\n",
    "model.params"
   ]
  },
  {
   "cell_type": "code",
   "execution_count": 8,
   "metadata": {
    "ExecuteTime": {
     "end_time": "2021-07-16T11:58:47.440444Z",
     "start_time": "2021-07-16T11:58:47.420410Z"
    }
   },
   "outputs": [
    {
     "data": {
      "text/plain": [
       "4.780225277054529"
      ]
     },
     "execution_count": 8,
     "metadata": {},
     "output_type": "execute_result"
    }
   ],
   "source": [
    "# residual = y_true - y_pred \n",
    "\n",
    "res = model.resid\n",
    "standard_dev = np.std(res, ddof = 0)\n",
    "standard_dev"
   ]
  },
  {
   "cell_type": "code",
   "execution_count": 9,
   "metadata": {
    "ExecuteTime": {
     "end_time": "2021-07-16T11:58:47.591454Z",
     "start_time": "2021-07-16T11:58:47.447846Z"
    }
   },
   "outputs": [],
   "source": [
    "# MLE function\n",
    "def MLE_Norm(param):\n",
    "    const, beta, std_dev = param\n",
    "    # predict the output\n",
    "    pred = const + beta*x\n",
    "    # Calculate the log-likelihood for normal distribution\n",
    "    LL = np.sum(stats.norm.logpdf(y, pred, std_dev))\n",
    "    # Calculate the negative log-likelihood\n",
    "    neg_LL = -1*LL\n",
    "    return neg_LL "
   ]
  },
  {
   "cell_type": "code",
   "execution_count": 10,
   "metadata": {
    "ExecuteTime": {
     "end_time": "2021-07-16T11:58:48.074433Z",
     "start_time": "2021-07-16T11:58:47.605443Z"
    }
   },
   "outputs": [
    {
     "data": {
      "text/plain": [
       "      fun: 298.3426207688484\n",
       " hess_inv: <3x3 LbfgsInvHessProduct with dtype=float64>\n",
       "      jac: array([5.68434189e-06, 2.84217094e-05, 5.68434189e-06])\n",
       "  message: b'CONVERGENCE: REL_REDUCTION_OF_F_<=_FACTR*EPSMCH'\n",
       "     nfev: 244\n",
       "      nit: 37\n",
       "   status: 0\n",
       "  success: True\n",
       "        x: array([19.98293997,  3.99699484,  4.78022614])"
      ]
     },
     "execution_count": 10,
     "metadata": {},
     "output_type": "execute_result"
    }
   ],
   "source": [
    "# minimize arguments: function, intial_guess_of_parameters, method\n",
    "mle_model = minimize(MLE_Norm, np.array([2,2,2]), method='L-BFGS-B', options={'disp': True})\n",
    "mle_model "
   ]
  },
  {
   "cell_type": "raw",
   "metadata": {},
   "source": [
    "defining bounds\n",
    "\n",
    "from scipy.optimize import Bounds\n",
    "bounds = Bounds([0, -0.5], [1.0, 2.0])"
   ]
  },
  {
   "cell_type": "markdown",
   "metadata": {},
   "source": [
    "## Confidence Intervals"
   ]
  },
  {
   "cell_type": "code",
   "execution_count": 5,
   "metadata": {
    "ExecuteTime": {
     "end_time": "2021-07-17T06:32:56.385333Z",
     "start_time": "2021-07-17T06:32:56.375340Z"
    }
   },
   "outputs": [],
   "source": [
    "def abline(slope, intercept=0):\n",
    "    \"\"\"Plot a line from slope and intercept\"\"\"\n",
    "    axes = plt.gca()\n",
    "    x_vals = np.array(axes.get_xlim())\n",
    "    y_vals = intercept + slope * x_vals\n",
    "    plt.plot(x_vals, y_vals, '--')\n",
    "\n",
    "def confidence_interval(n, confidence=0.95):\n",
    "    a = np.random.normal(size=n)\n",
    "    m, se = np.mean(a), stats.sem(a)\n",
    "    h = se * stats.t.ppf((1 + confidence) / 2., n-1)\n",
    "    return m-h, m+h"
   ]
  },
  {
   "cell_type": "code",
   "execution_count": 6,
   "metadata": {
    "ExecuteTime": {
     "end_time": "2021-07-17T06:32:58.061336Z",
     "start_time": "2021-07-17T06:32:58.057334Z"
    }
   },
   "outputs": [],
   "source": [
    "from scipy.stats import ttest_1samp"
   ]
  },
  {
   "cell_type": "code",
   "execution_count": 7,
   "metadata": {
    "ExecuteTime": {
     "end_time": "2021-07-17T06:32:59.287331Z",
     "start_time": "2021-07-17T06:32:59.273331Z"
    }
   },
   "outputs": [
    {
     "data": {
      "text/plain": [
       "Ttest_1sampResult(statistic=0.8245387056792826, pvalue=0.4309431512949804)"
      ]
     },
     "execution_count": 7,
     "metadata": {},
     "output_type": "execute_result"
    }
   ],
   "source": [
    "data = [0.9193010,  0.2162517,  0.1790611, -0.5220764, -0.4086740,  1.5311779,  0.4575750, -0.5996455, 1.8689674, -1.1233079]\n",
    "ttest_1samp(data, popmean = 0)"
   ]
  },
  {
   "cell_type": "code",
   "execution_count": 8,
   "metadata": {
    "ExecuteTime": {
     "end_time": "2021-07-17T06:32:59.745367Z",
     "start_time": "2021-07-17T06:32:59.736339Z"
    }
   },
   "outputs": [
    {
     "data": {
      "text/plain": [
       "(-1.069842415493175, 0.6330088807830025)"
      ]
     },
     "execution_count": 8,
     "metadata": {},
     "output_type": "execute_result"
    }
   ],
   "source": [
    "confidence_interval(10)"
   ]
  },
  {
   "cell_type": "code",
   "execution_count": 9,
   "metadata": {
    "ExecuteTime": {
     "end_time": "2021-07-17T06:33:00.220423Z",
     "start_time": "2021-07-17T06:33:00.141331Z"
    }
   },
   "outputs": [],
   "source": [
    "x = np.ones((100, 2))*10\n",
    "for i, val in enumerate(x):\n",
    "    x[i] = confidence_interval(10)"
   ]
  },
  {
   "cell_type": "code",
   "execution_count": 10,
   "metadata": {
    "ExecuteTime": {
     "end_time": "2021-07-17T06:33:01.524335Z",
     "start_time": "2021-07-17T06:33:01.067340Z"
    }
   },
   "outputs": [
    {
     "data": {
      "image/png": "[encoded data removed]",
      "text/plain": [
       "<Figure size 792x648 with 1 Axes>"
      ]
     },
     "metadata": {
      "needs_background": "light"
     },
     "output_type": "display_data"
    }
   ],
   "source": [
    "f, ax = plt.subplots(figsize =(11, 9))\n",
    "plt.plot(x[:, 0])\n",
    "plt.plot(x[:, 1])\n",
    "abline(0,0)"
   ]
  },
  {
   "cell_type": "code",
   "execution_count": 11,
   "metadata": {
    "ExecuteTime": {
     "end_time": "2021-07-17T06:34:09.697342Z",
     "start_time": "2021-07-17T06:34:09.688343Z"
    }
   },
   "outputs": [
    {
     "data": {
      "text/plain": [
       "0.96"
      ]
     },
     "execution_count": 11,
     "metadata": {},
     "output_type": "execute_result"
    }
   ],
   "source": [
    "num = (x[:, 0] < 0) & (x[:, 1] >0)\n",
    "num.sum()/x.shape[0]"
   ]
  },
  {
   "cell_type": "code",
   "execution_count": 12,
   "metadata": {
    "ExecuteTime": {
     "end_time": "2021-07-17T06:34:10.564460Z",
     "start_time": "2021-07-17T06:34:10.348330Z"
    }
   },
   "outputs": [],
   "source": [
    "import researchpy as rp\n",
    "# rp.ttest(data)\n",
    "# https://www.pythonfordatascience.org/independent-samples-t-test-python/"
   ]
  },
  {
   "cell_type": "code",
   "execution_count": 13,
   "metadata": {
    "ExecuteTime": {
     "end_time": "2021-07-17T06:34:10.691371Z",
     "start_time": "2021-07-17T06:34:10.676329Z"
    }
   },
   "outputs": [
    {
     "data": {
      "text/plain": [
       "(0.34950849576669035, 0.3812527660468855)"
      ]
     },
     "execution_count": 13,
     "metadata": {},
     "output_type": "execute_result"
    }
   ],
   "source": [
    "stats.beta(1291, 2243).ppf(.025), stats.beta(1291, 2243).ppf(.975)"
   ]
  },
  {
   "cell_type": "code",
   "execution_count": 14,
   "metadata": {
    "ExecuteTime": {
     "end_time": "2021-07-17T06:34:11.637341Z",
     "start_time": "2021-07-17T06:34:11.275332Z"
    }
   },
   "outputs": [
    {
     "data": {
      "text/plain": [
       "[<matplotlib.lines.Line2D at 0x1d523bb0cc0>]"
      ]
     },
     "execution_count": 14,
     "metadata": {},
     "output_type": "execute_result"
    },
    {
     "data": {
      "image/png": "[encoded data removed]",
      "text/plain": [
       "<Figure size 432x288 with 1 Axes>"
      ]
     },
     "metadata": {
      "needs_background": "light"
     },
     "output_type": "display_data"
    }
   ],
   "source": [
    "x = np.linspace(0.3, 0.4, num =100)\n",
    "plt.plot(x, stats.beta(1291, 2243).pdf(x))\n",
    "plt.plot(x, stats.beta(616, 1094).pdf(x))"
   ]
  },
  {
   "cell_type": "code",
   "execution_count": 16,
   "metadata": {
    "ExecuteTime": {
     "end_time": "2021-07-17T06:37:50.086370Z",
     "start_time": "2021-07-17T06:37:50.050342Z"
    }
   },
   "outputs": [
    {
     "data": {
      "text/plain": [
       "array([2., 9.])"
      ]
     },
     "execution_count": 16,
     "metadata": {},
     "output_type": "execute_result"
    }
   ],
   "source": [
    "stats.binom(11, 0.5).ppf(q = [0.025, 0.975])"
   ]
  },
  {
   "cell_type": "code",
   "execution_count": 20,
   "metadata": {
    "ExecuteTime": {
     "end_time": "2021-07-17T06:42:02.840862Z",
     "start_time": "2021-07-17T06:42:02.828858Z"
    }
   },
   "outputs": [
    {
     "data": {
      "text/plain": [
       "0.96142578125"
      ]
     },
     "execution_count": 20,
     "metadata": {},
     "output_type": "execute_result"
    }
   ],
   "source": [
    "stats.binom(11, 0.5).cdf(8) - stats.binom(11, 0.5).cdf(1)"
   ]
  },
  {
   "cell_type": "code",
   "execution_count": 34,
   "metadata": {
    "ExecuteTime": {
     "end_time": "2021-07-17T06:45:10.155857Z",
     "start_time": "2021-07-17T06:45:10.150858Z"
    }
   },
   "outputs": [],
   "source": [
    "def f(n):\n",
    "    X = stats.uniform().rvs(n)\n",
    "    Y = np.sort(X)\n",
    "    return (Y[2], Y[9])"
   ]
  },
  {
   "cell_type": "code",
   "execution_count": 37,
   "metadata": {
    "ExecuteTime": {
     "end_time": "2021-07-17T06:45:13.472898Z",
     "start_time": "2021-07-17T06:45:13.462859Z"
    }
   },
   "outputs": [
    {
     "data": {
      "text/plain": [
       "(0.09549752538254042, 0.7960134600330862)"
      ]
     },
     "execution_count": 37,
     "metadata": {},
     "output_type": "execute_result"
    }
   ],
   "source": [
    "f(11)"
   ]
  },
  {
   "cell_type": "markdown",
   "metadata": {},
   "source": [
    "## Hypothesis Testing"
   ]
  },
  {
   "cell_type": "code",
   "execution_count": 39,
   "metadata": {
    "ExecuteTime": {
     "end_time": "2021-07-17T06:57:07.481420Z",
     "start_time": "2021-07-17T06:57:07.447388Z"
    }
   },
   "outputs": [
    {
     "data": {
      "text/html": [
       "<div>\n",
       "<style scoped>\n",
       "    .dataframe tbody tr th:only-of-type {\n",
       "        vertical-align: middle;\n",
       "    }\n",
       "\n",
       "    .dataframe tbody tr th {\n",
       "        vertical-align: top;\n",
       "    }\n",
       "\n",
       "    .dataframe thead th {\n",
       "        text-align: right;\n",
       "    }\n",
       "</style>\n",
       "<table border=\"1\" class=\"dataframe\">\n",
       "  <thead>\n",
       "    <tr style=\"text-align: right;\">\n",
       "      <th></th>\n",
       "      <th>y</th>\n",
       "      <th>n</th>\n",
       "    </tr>\n",
       "  </thead>\n",
       "  <tbody>\n",
       "    <tr>\n",
       "      <th>0</th>\n",
       "      <td>8</td>\n",
       "      <td>56</td>\n",
       "    </tr>\n",
       "    <tr>\n",
       "      <th>1</th>\n",
       "      <td>13</td>\n",
       "      <td>55</td>\n",
       "    </tr>\n",
       "    <tr>\n",
       "      <th>2</th>\n",
       "      <td>12</td>\n",
       "      <td>58</td>\n",
       "    </tr>\n",
       "    <tr>\n",
       "      <th>3</th>\n",
       "      <td>13</td>\n",
       "      <td>56</td>\n",
       "    </tr>\n",
       "    <tr>\n",
       "      <th>4</th>\n",
       "      <td>14</td>\n",
       "      <td>57</td>\n",
       "    </tr>\n",
       "  </tbody>\n",
       "</table>\n",
       "</div>"
      ],
      "text/plain": [
       "    y   n\n",
       "0   8  56\n",
       "1  13  55\n",
       "2  12  58\n",
       "3  13  56\n",
       "4  14  57"
      ]
     },
     "execution_count": 39,
     "metadata": {},
     "output_type": "execute_result"
    }
   ],
   "source": [
    "d = {'y': [8 ,13 ,12 ,13 ,14 , 5, 14,15, 11, 13, 10,  8, 10, 11, 12, 11,  6,  7, 12, 14], 'n': [56 ,55, 58, 56, 57, 54, 56, 57, 54, 55, 57, 59, 54, 55, 56, 57, 54, 58, 58, 58]}\n",
    "data = pd.DataFrame(data =d)\n",
    "data.head()"
   ]
  },
  {
   "cell_type": "code",
   "execution_count": 44,
   "metadata": {
    "ExecuteTime": {
     "end_time": "2021-07-17T07:15:39.771609Z",
     "start_time": "2021-07-17T07:15:39.758610Z"
    }
   },
   "outputs": [],
   "source": [
    "data['phat'] = data.y/data.n\n",
    "data.phat = abs(data.phat-0.2)/np.sqrt(0.2*0.8/data.n)`"
   ]
  },
  {
   "cell_type": "code",
   "execution_count": 48,
   "metadata": {
    "ExecuteTime": {
     "end_time": "2021-07-17T07:16:56.352615Z",
     "start_time": "2021-07-17T07:16:56.342608Z"
    }
   },
   "outputs": [
    {
     "data": {
      "text/plain": [
       "0.05"
      ]
     },
     "execution_count": 48,
     "metadata": {},
     "output_type": "execute_result"
    }
   ],
   "source": [
    "(np.sum(data.phat>1.96))/20"
   ]
  },
  {
   "cell_type": "code",
   "execution_count": 62,
   "metadata": {
    "ExecuteTime": {
     "end_time": "2021-07-17T07:30:50.251237Z",
     "start_time": "2021-07-17T07:30:50.226224Z"
    }
   },
   "outputs": [
    {
     "data": {
      "text/plain": [
       "0.9"
      ]
     },
     "execution_count": 62,
     "metadata": {},
     "output_type": "execute_result"
    }
   ],
   "source": [
    "# CI = phat +- 1.96*sqrt(0.2*0.8/n)\n",
    "x = pd.DataFrame(data = {'lowB' :(data.y/data.n - 1.96*np.sqrt((data.y/data.n)*(1 - (data.y/data.n))/data.n)), 'uppB':(data.y/data.n + 1.96*np.sqrt((data.y/data.n)*(1 - (data.y/data.n))/data.n))})\n",
    "np.sum((x.lowB < 0.2) & (x.uppB >0.2))/20"
   ]
  },
  {
   "cell_type": "code",
   "execution_count": 63,
   "metadata": {
    "ExecuteTime": {
     "end_time": "2021-07-17T07:31:07.343225Z",
     "start_time": "2021-07-17T07:31:07.059220Z"
    }
   },
   "outputs": [
    {
     "data": {
      "image/png": "[encoded data removed]",
      "text/plain": [
       "<Figure size 432x288 with 1 Axes>"
      ]
     },
     "metadata": {
      "needs_background": "light"
     },
     "output_type": "display_data"
    }
   ],
   "source": [
    "plt.plot(x.lowB)\n",
    "plt.plot(x.uppB)\n",
    "abline(0, 0.2)"
   ]
  },
  {
   "cell_type": "markdown",
   "metadata": {},
   "source": [
    "### Type I and Type II errors"
   ]
  },
  {
   "cell_type": "markdown",
   "metadata": {},
   "source": [
    "TIP: \n",
    "*Type 1* error is the probability of rejecting h0 when h0 is TRUE\n",
    "\n",
    "*Type 2* error is the probability of not rejecting h0 when h1 is TRUE\n",
    "\n",
    "if value lies in the critical region, then it means reject h0"
   ]
  },
  {
   "cell_type": "code",
   "execution_count": 65,
   "metadata": {
    "ExecuteTime": {
     "end_time": "2021-07-17T09:13:47.647296Z",
     "start_time": "2021-07-17T09:13:47.634293Z"
    }
   },
   "outputs": [
    {
     "data": {
      "text/plain": [
       "0.17187499999999994"
      ]
     },
     "execution_count": 65,
     "metadata": {},
     "output_type": "execute_result"
    }
   ],
   "source": [
    "alpha = stats.binom(10, 0.5).cdf(3.5)\n",
    "alpha"
   ]
  },
  {
   "cell_type": "code",
   "execution_count": 66,
   "metadata": {
    "ExecuteTime": {
     "end_time": "2021-07-17T09:14:39.576293Z",
     "start_time": "2021-07-17T09:14:39.564293Z"
    }
   },
   "outputs": [
    {
     "data": {
      "text/plain": [
       "0.22412490844726562"
      ]
     },
     "execution_count": 66,
     "metadata": {},
     "output_type": "execute_result"
    }
   ],
   "source": [
    "beta = 1- stats.binom(10, 0.25).cdf(3.5)\n",
    "beta"
   ]
  },
  {
   "cell_type": "code",
   "execution_count": 79,
   "metadata": {
    "ExecuteTime": {
     "end_time": "2021-07-17T09:22:51.904903Z",
     "start_time": "2021-07-17T09:22:51.894216Z"
    }
   },
   "outputs": [
    {
     "data": {
      "text/plain": [
       "0.23"
      ]
     },
     "execution_count": 79,
     "metadata": {},
     "output_type": "execute_result"
    }
   ],
   "source": [
    "np.sum(stats.binom(10,p =0.25).rvs(200) > 3.5)/200"
   ]
  },
  {
   "cell_type": "markdown",
   "metadata": {},
   "source": [
    "Q. A ball is drawn from one of two bowls. Bowl A contains 100 red balls and 200 white\n",
    "balls; Bowl B contains 200 red balls and 100 white balls. Let p denote the probability\n",
    "of drawing a red ball from the bowl. Then p is unknown as we don’t know which\n",
    "bowl is being used.To test the simple null hypothesis H0 : p = 1/3 against the simple\n",
    "alternative that p = 2/3, three balls are drawn at random with replacement from the\n",
    "selected bowl. Let X be the number of red balls drawn. Let the critical region be\n",
    "C = {x : x = 2, 3}. Using R, what are the probabilities alpha and beta respectively of Type\n",
    "I and Type II errors?"
   ]
  },
  {
   "cell_type": "code",
   "execution_count": 100,
   "metadata": {
    "ExecuteTime": {
     "end_time": "2021-07-17T09:34:38.486468Z",
     "start_time": "2021-07-17T09:34:38.471465Z"
    }
   },
   "outputs": [
    {
     "data": {
      "text/plain": [
       "0.2592592592592592"
      ]
     },
     "execution_count": 100,
     "metadata": {},
     "output_type": "execute_result"
    }
   ],
   "source": [
    "# For Bowl A, p = 1/3 and Bowl B, p = 2/3\n",
    "\n",
    "np.sum(stats.binom(3, p =1/3).pmf([2, 3]))"
   ]
  },
  {
   "cell_type": "code",
   "execution_count": 102,
   "metadata": {
    "ExecuteTime": {
     "end_time": "2021-07-17T09:35:16.236466Z",
     "start_time": "2021-07-17T09:35:16.223462Z"
    }
   },
   "outputs": [
    {
     "data": {
      "text/plain": [
       "0.2592592592592593"
      ]
     },
     "execution_count": 102,
     "metadata": {},
     "output_type": "execute_result"
    }
   ],
   "source": [
    "# For Bowl A, p = 1/3 and Bowl B, p = 2/3\n",
    "\n",
    "1-np.sum(stats.binom(3, p =2/3).pmf([2, 3]))"
   ]
  },
  {
   "cell_type": "markdown",
   "metadata": {},
   "source": [
    "Q. Let Y ~ binomial(100; p). To test H0 : p = 0.08 against H1 : p < 0.08, we reject H0\n",
    "and accept H1 if and only if Y <= 6. Using Python,\n",
    "\n",
    "a. Determine the significance level alpha of the test."
   ]
  },
  {
   "cell_type": "code",
   "execution_count": 121,
   "metadata": {
    "ExecuteTime": {
     "end_time": "2021-07-17T09:41:55.234466Z",
     "start_time": "2021-07-17T09:41:55.222465Z"
    }
   },
   "outputs": [
    {
     "data": {
      "text/plain": [
       "0.3031559914686833"
      ]
     },
     "execution_count": 121,
     "metadata": {},
     "output_type": "execute_result"
    }
   ],
   "source": [
    "stats.binom(100, 0.08).cdf(6)"
   ]
  },
  {
   "cell_type": "markdown",
   "metadata": {},
   "source": [
    "b. Find the probability of a Type II error if in fact p = 0:04."
   ]
  },
  {
   "cell_type": "code",
   "execution_count": 124,
   "metadata": {
    "ExecuteTime": {
     "end_time": "2021-07-17T09:44:22.814474Z",
     "start_time": "2021-07-17T09:44:22.803469Z"
    }
   },
   "outputs": [
    {
     "data": {
      "text/plain": [
       "0.10639231790455839"
      ]
     },
     "execution_count": 124,
     "metadata": {},
     "output_type": "execute_result"
    }
   ],
   "source": [
    "1 - stats.binom(100, 0.04).cdf(6)"
   ]
  },
  {
   "cell_type": "markdown",
   "metadata": {},
   "source": [
    "A company that manufactures brackets for an auto maker regularly selects brackets from the production line and performs a torque test. The goal is for the mean torque to equal 125. Let X ~ N(mu; sigma^2) be the torque and suppose we take a random sample of size n = 15 to test H0 : mu = 125 against a two sided alternative. Suppose the following data are observed:\n",
    "\n",
    "128 149 136 114 126 142 124 136 122 118 122 129 118 122 129\n",
    "\n",
    "Use the t.test command to test the hypotheses and construct a 95% confidence interval for mu."
   ]
  },
  {
   "cell_type": "code",
   "execution_count": 125,
   "metadata": {
    "ExecuteTime": {
     "end_time": "2021-07-17T10:14:01.507470Z",
     "start_time": "2021-07-17T10:14:01.497464Z"
    }
   },
   "outputs": [],
   "source": [
    "data = [128, 149, 136, 114, 126, 142, 124, 136 ,122, 118 ,122, 129, 118, 122, 129]"
   ]
  },
  {
   "cell_type": "code",
   "execution_count": 127,
   "metadata": {
    "ExecuteTime": {
     "end_time": "2021-07-17T10:15:24.266465Z",
     "start_time": "2021-07-17T10:15:24.253462Z"
    }
   },
   "outputs": [
    {
     "data": {
      "text/plain": [
       "Ttest_1sampResult(statistic=1.0762069052923653, pvalue=0.3000316671916328)"
      ]
     },
     "execution_count": 127,
     "metadata": {},
     "output_type": "execute_result"
    }
   ],
   "source": [
    "stats.ttest_1samp(data, popmean = 125)"
   ]
  },
  {
   "cell_type": "code",
   "execution_count": 139,
   "metadata": {
    "ExecuteTime": {
     "end_time": "2021-07-17T10:32:45.912199Z",
     "start_time": "2021-07-17T10:32:45.903189Z"
    }
   },
   "outputs": [
    {
     "data": {
      "text/plain": [
       "1.0762069052923653"
      ]
     },
     "execution_count": 139,
     "metadata": {},
     "output_type": "execute_result"
    }
   ],
   "source": [
    "t_statistic = (np.mean(data) - 125)/(np.std(data, ddof =1)/np.sqrt(15))\n",
    "t_statistic"
   ]
  },
  {
   "cell_type": "code",
   "execution_count": 140,
   "metadata": {
    "ExecuteTime": {
     "end_time": "2021-07-17T10:35:29.321195Z",
     "start_time": "2021-07-17T10:35:29.299207Z"
    }
   },
   "outputs": [
    {
     "data": {
      "text/plain": [
       "0.30003166719163277"
      ]
     },
     "execution_count": 140,
     "metadata": {},
     "output_type": "execute_result"
    }
   ],
   "source": [
    "p_value = 2*(1-stats.t(14).cdf(t_statistic))\n",
    "p_value"
   ]
  },
  {
   "cell_type": "code",
   "execution_count": 141,
   "metadata": {
    "ExecuteTime": {
     "end_time": "2021-07-17T10:39:12.844456Z",
     "start_time": "2021-07-17T10:39:12.822451Z"
    }
   },
   "outputs": [
    {
     "data": {
      "text/plain": [
       "(122.35223210984256, 132.98110122349078)"
      ]
     },
     "execution_count": 141,
     "metadata": {},
     "output_type": "execute_result"
    }
   ],
   "source": [
    "CI =(np.mean(data) - np.std(data, ddof =1)*stats.t(len(data)-1).ppf(0.975)/np.sqrt(len(data)), \n",
    "np.mean(data) + np.std(data, ddof =1)*stats.t(len(data)-1).ppf(0.975)/np.sqrt(len(data)))\n",
    "CI"
   ]
  },
  {
   "cell_type": "code",
   "execution_count": null,
   "metadata": {},
   "outputs": [],
   "source": []
  }
 ],
 "metadata": {
  "kernelspec": {
   "display_name": "Python 3",
   "language": "python",
   "name": "python3"
  },
  "language_info": {
   "codemirror_mode": {
    "name": "ipython",
    "version": 3
   },
   "file_extension": ".py",
   "mimetype": "text/x-python",
   "name": "python",
   "nbconvert_exporter": "python",
   "pygments_lexer": "ipython3",
   "version": "3.6.9"
  }
 },
 "nbformat": 4,
 "nbformat_minor": 2
}
