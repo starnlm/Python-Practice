{
 "cells": [
  {
   "cell_type": "code",
   "execution_count": 10,
   "metadata": {
    "ExecuteTime": {
     "end_time": "2021-07-13T16:49:02.624086Z",
     "start_time": "2021-07-13T16:49:02.619083Z"
    }
   },
   "outputs": [],
   "source": [
    "import time"
   ]
  },
  {
   "cell_type": "markdown",
   "metadata": {},
   "source": [
    "## Defining a decorator"
   ]
  },
  {
   "cell_type": "code",
   "execution_count": 2,
   "metadata": {
    "ExecuteTime": {
     "end_time": "2021-07-13T16:36:13.105785Z",
     "start_time": "2021-07-13T16:36:13.099788Z"
    }
   },
   "outputs": [],
   "source": [
    "def mydeco(func):\n",
    "    def wrapper(*args, **kwargs):\n",
    "        return f'{func(*args, **kwargs)}!!!'\n",
    "    return wrapper"
   ]
  },
  {
   "cell_type": "markdown",
   "metadata": {},
   "source": [
    "The wrapper has access to function \"func\" thanks to python scoping.\n",
    "'LEGB': Local Enclosing Global Built-ins "
   ]
  },
  {
   "cell_type": "code",
   "execution_count": 52,
   "metadata": {
    "ExecuteTime": {
     "end_time": "2021-07-13T17:15:58.460321Z",
     "start_time": "2021-07-13T17:15:58.454316Z"
    }
   },
   "outputs": [],
   "source": [
    "@once_per_n(5)\n",
    "def add(a, b):\n",
    "    return a+b"
   ]
  },
  {
   "cell_type": "code",
   "execution_count": 5,
   "metadata": {
    "ExecuteTime": {
     "end_time": "2021-07-13T16:37:15.681238Z",
     "start_time": "2021-07-13T16:37:15.655236Z"
    }
   },
   "outputs": [
    {
     "data": {
      "text/plain": [
       "'3!!!'"
      ]
     },
     "execution_count": 5,
     "metadata": {},
     "output_type": "execute_result"
    }
   ],
   "source": [
    "add(1, 2)"
   ]
  },
  {
   "cell_type": "markdown",
   "metadata": {},
   "source": [
    "##  Example 1: How long did it take for the function to run"
   ]
  },
  {
   "cell_type": "code",
   "execution_count": 103,
   "metadata": {
    "ExecuteTime": {
     "end_time": "2021-07-13T17:47:30.301198Z",
     "start_time": "2021-07-13T17:47:30.287208Z"
    }
   },
   "outputs": [],
   "source": [
    "def logtime(func):\n",
    "    \n",
    "    def wrapper(*args, **kwargs):\n",
    "        start_time = time.monotonic()\n",
    "        result = func(*args, **kwargs)\n",
    "        total_time = time.monotonic() - start_time\n",
    "        \n",
    "        with open('timelog.txt', 'a') as outfile:\n",
    "            outfile.write(f'{time.monotonic()}\\t{func.__name__}\\t{total_time}\\n')\n",
    "        \n",
    "        return result\n",
    "    \n",
    "    return wrapper"
   ]
  },
  {
   "cell_type": "code",
   "execution_count": 104,
   "metadata": {
    "ExecuteTime": {
     "end_time": "2021-07-13T17:47:32.941199Z",
     "start_time": "2021-07-13T17:47:32.931195Z"
    }
   },
   "outputs": [],
   "source": [
    "@logtime\n",
    "def slow_add(a, b):\n",
    "    time.sleep(2)\n",
    "    return a+b\n",
    "\n",
    "@logtime\n",
    "def slow_mul(a, b):\n",
    "    time.sleep(3)\n",
    "    return a*b"
   ]
  },
  {
   "cell_type": "code",
   "execution_count": 105,
   "metadata": {
    "ExecuteTime": {
     "end_time": "2021-07-13T17:47:39.020202Z",
     "start_time": "2021-07-13T17:47:34.008195Z"
    }
   },
   "outputs": [
    {
     "data": {
      "text/plain": [
       "8"
      ]
     },
     "execution_count": 105,
     "metadata": {},
     "output_type": "execute_result"
    }
   ],
   "source": [
    "slow_add(1, 2)\n",
    "slow_mul(2, 4)"
   ]
  },
  {
   "cell_type": "markdown",
   "metadata": {},
   "source": [
    "## Example 2: Allow function to be called only once in a minute"
   ]
  },
  {
   "cell_type": "code",
   "execution_count": 39,
   "metadata": {
    "ExecuteTime": {
     "end_time": "2021-07-13T17:05:48.089236Z",
     "start_time": "2021-07-13T17:05:48.083243Z"
    }
   },
   "outputs": [],
   "source": [
    "def one_per_minute(func):\n",
    "    \n",
    "    last_invoked = 0\n",
    "    \n",
    "    def wrapper(*args, **kwargs):\n",
    "        \n",
    "        nonlocal last_invoked\n",
    "        elapsed_time = time.time() - last_invoked\n",
    "        \n",
    "        if elapsed_time < 60:\n",
    "            raise\n",
    "            \n",
    "        last_invoked = time.time()\n",
    "        \n",
    "        return func(*args, **kwargs)\n",
    "    \n",
    "    return wrapper"
   ]
  },
  {
   "cell_type": "code",
   "execution_count": 44,
   "metadata": {
    "ExecuteTime": {
     "end_time": "2021-07-13T17:08:38.585478Z",
     "start_time": "2021-07-13T17:08:38.563476Z"
    }
   },
   "outputs": [
    {
     "ename": "RuntimeError",
     "evalue": "No active exception to reraise",
     "output_type": "error",
     "traceback": [
      "\u001b[1;31m---------------------------------------------------------------------------\u001b[0m",
      "\u001b[1;31mRuntimeError\u001b[0m                              Traceback (most recent call last)",
      "\u001b[1;32m<ipython-input-44-662d04ef82bd>\u001b[0m in \u001b[0;36m<module>\u001b[1;34m\u001b[0m\n\u001b[1;32m----> 1\u001b[1;33m \u001b[0madd\u001b[0m\u001b[1;33m(\u001b[0m\u001b[1;36m1\u001b[0m\u001b[1;33m,\u001b[0m \u001b[1;36m2\u001b[0m\u001b[1;33m)\u001b[0m\u001b[1;33m\u001b[0m\u001b[1;33m\u001b[0m\u001b[0m\n\u001b[0m\u001b[0;32m      2\u001b[0m \u001b[0madd\u001b[0m\u001b[1;33m(\u001b[0m\u001b[1;36m3\u001b[0m\u001b[1;33m,\u001b[0m \u001b[1;36m4\u001b[0m\u001b[1;33m)\u001b[0m\u001b[1;33m\u001b[0m\u001b[1;33m\u001b[0m\u001b[0m\n",
      "\u001b[1;32m<ipython-input-39-9dbe007c48ff>\u001b[0m in \u001b[0;36mwrapper\u001b[1;34m(*args, **kwargs)\u001b[0m\n\u001b[0;32m      9\u001b[0m \u001b[1;33m\u001b[0m\u001b[0m\n\u001b[0;32m     10\u001b[0m         \u001b[1;32mif\u001b[0m \u001b[0melapsed_time\u001b[0m \u001b[1;33m<\u001b[0m \u001b[1;36m60\u001b[0m\u001b[1;33m:\u001b[0m\u001b[1;33m\u001b[0m\u001b[1;33m\u001b[0m\u001b[0m\n\u001b[1;32m---> 11\u001b[1;33m             \u001b[1;32mraise\u001b[0m\u001b[1;33m\u001b[0m\u001b[1;33m\u001b[0m\u001b[0m\n\u001b[0m\u001b[0;32m     12\u001b[0m \u001b[1;33m\u001b[0m\u001b[0m\n\u001b[0;32m     13\u001b[0m         \u001b[0mlast_invoked\u001b[0m \u001b[1;33m=\u001b[0m \u001b[0mtime\u001b[0m\u001b[1;33m.\u001b[0m\u001b[0mtime\u001b[0m\u001b[1;33m(\u001b[0m\u001b[1;33m)\u001b[0m\u001b[1;33m\u001b[0m\u001b[1;33m\u001b[0m\u001b[0m\n",
      "\u001b[1;31mRuntimeError\u001b[0m: No active exception to reraise"
     ]
    }
   ],
   "source": [
    "add(1, 2)\n",
    "add(3, 4)"
   ]
  },
  {
   "cell_type": "markdown",
   "metadata": {},
   "source": [
    "## Example 3: Allow function to be called only once in \"n\" seconds"
   ]
  },
  {
   "cell_type": "code",
   "execution_count": 51,
   "metadata": {
    "ExecuteTime": {
     "end_time": "2021-07-13T17:15:54.896319Z",
     "start_time": "2021-07-13T17:15:54.886318Z"
    }
   },
   "outputs": [],
   "source": [
    "def once_per_n(n):\n",
    "    \n",
    "    def mid_function(func):\n",
    "        last_invoked = 0\n",
    "        \n",
    "        def wrapper(*args, **kwargs):\n",
    "            nonlocal last_invoked\n",
    "            \n",
    "            if time.time() - last_invoked < n:\n",
    "                raise \n",
    "            last_invoked = time.time()\n",
    "            \n",
    "            return func(*args, **kwargs)\n",
    "        \n",
    "        return wrapper\n",
    "    \n",
    "    return mid_function"
   ]
  },
  {
   "cell_type": "code",
   "execution_count": 55,
   "metadata": {
    "ExecuteTime": {
     "end_time": "2021-07-13T17:16:12.905327Z",
     "start_time": "2021-07-13T17:16:12.898319Z"
    }
   },
   "outputs": [
    {
     "data": {
      "text/plain": [
       "3"
      ]
     },
     "execution_count": 55,
     "metadata": {},
     "output_type": "execute_result"
    }
   ],
   "source": [
    "add(1, 2)"
   ]
  },
  {
   "cell_type": "markdown",
   "metadata": {},
   "source": [
    "## Example 4: Memoization"
   ]
  },
  {
   "cell_type": "markdown",
   "metadata": {},
   "source": [
    "Cache the results of the function calls, so that we don't need to call them again."
   ]
  },
  {
   "cell_type": "code",
   "execution_count": 102,
   "metadata": {
    "ExecuteTime": {
     "end_time": "2021-07-13T17:27:03.125712Z",
     "start_time": "2021-07-13T17:27:03.113711Z"
    }
   },
   "outputs": [],
   "source": [
    "def memoize(func):\n",
    "    cache = {}\n",
    "    \n",
    "    def wrapper(*args, **kwargs):\n",
    "        t = (pickle.dumps(args), pickle.dumps(kwargs))\n",
    "        \n",
    "        if t not in cache:\n",
    "            print(f\"Caching NEW value for {func.__name__}{args}\")\n",
    "            cache[t] = func(*args, **kwargs)\n",
    "        else:\n",
    "            print(f\"Using OLD value for {func.__name__}{args}\")\n",
    "        \n",
    "        return cache[t]\n",
    "    return wrapper"
   ]
  },
  {
   "cell_type": "code",
   "execution_count": 58,
   "metadata": {
    "ExecuteTime": {
     "end_time": "2021-07-13T17:23:09.902633Z",
     "start_time": "2021-07-13T17:23:09.896623Z"
    }
   },
   "outputs": [],
   "source": [
    "@memoize\n",
    "def add(a, b):\n",
    "    print(\"running add!\")\n",
    "    return a+b\n",
    "\n",
    "@memoize\n",
    "def mul(a, b):\n",
    "    print(\"running mul!\")\n",
    "    return a*b\n"
   ]
  },
  {
   "cell_type": "code",
   "execution_count": 59,
   "metadata": {
    "ExecuteTime": {
     "end_time": "2021-07-13T17:23:48.663388Z",
     "start_time": "2021-07-13T17:23:48.652396Z"
    }
   },
   "outputs": [
    {
     "name": "stdout",
     "output_type": "stream",
     "text": [
      "Caching NEW value for add(3, 7)\n",
      "running add!\n",
      "10\n",
      "Using OLD value for add(3, 7)\n",
      "10\n",
      "Caching NEW value for mul(3, 7)\n",
      "running mul!\n",
      "21\n",
      "Using OLD value for mul(3, 7)\n",
      "21\n"
     ]
    }
   ],
   "source": [
    "print(add(3, 7))\n",
    "print(add(3, 7))\n",
    "print(mul(3, 7))\n",
    "print(mul(3, 7))"
   ]
  },
  {
   "cell_type": "markdown",
   "metadata": {},
   "source": [
    "##  Example 5: Attributes"
   ]
  },
  {
   "cell_type": "markdown",
   "metadata": {},
   "source": [
    "Give many objects the same attributes, but without using inheritance"
   ]
  },
  {
   "cell_type": "code",
   "execution_count": 110,
   "metadata": {
    "ExecuteTime": {
     "end_time": "2021-07-13T17:57:55.142858Z",
     "start_time": "2021-07-13T17:57:55.132855Z"
    }
   },
   "outputs": [
    {
     "data": {
      "text/plain": [
       "9"
      ]
     },
     "execution_count": 110,
     "metadata": {},
     "output_type": "execute_result"
    }
   ],
   "source": [
    "int('1001', base = 2)"
   ]
  },
  {
   "cell_type": "code",
   "execution_count": null,
   "metadata": {},
   "outputs": [],
   "source": []
  }
 ],
 "metadata": {
  "kernelspec": {
   "display_name": "Python 3",
   "language": "python",
   "name": "python3"
  },
  "language_info": {
   "codemirror_mode": {
    "name": "ipython",
    "version": 3
   },
   "file_extension": ".py",
   "mimetype": "text/x-python",
   "name": "python",
   "nbconvert_exporter": "python",
   "pygments_lexer": "ipython3",
   "version": "3.6.9"
  }
 },
 "nbformat": 4,
 "nbformat_minor": 2
}
